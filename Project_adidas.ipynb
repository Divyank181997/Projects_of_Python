{
 "cells": [
  {
   "cell_type": "code",
   "execution_count": 15,
   "id": "ad4ec527",
   "metadata": {},
   "outputs": [
    {
     "data": {
      "text/html": [
       "<div>\n",
       "<style scoped>\n",
       "    .dataframe tbody tr th:only-of-type {\n",
       "        vertical-align: middle;\n",
       "    }\n",
       "\n",
       "    .dataframe tbody tr th {\n",
       "        vertical-align: top;\n",
       "    }\n",
       "\n",
       "    .dataframe thead th {\n",
       "        text-align: right;\n",
       "    }\n",
       "</style>\n",
       "<table border=\"1\" class=\"dataframe\">\n",
       "  <thead>\n",
       "    <tr style=\"text-align: right;\">\n",
       "      <th></th>\n",
       "      <th>Unnamed: 0</th>\n",
       "      <th>Retailer</th>\n",
       "      <th>Retailer ID</th>\n",
       "      <th>Invoice Date</th>\n",
       "      <th>Region</th>\n",
       "      <th>State</th>\n",
       "      <th>City</th>\n",
       "      <th>Product</th>\n",
       "      <th>Price per Unit</th>\n",
       "      <th>Units Sold</th>\n",
       "      <th>Total Sales</th>\n",
       "      <th>Operating Profit</th>\n",
       "      <th>Operating Margin</th>\n",
       "      <th>Sales Method</th>\n",
       "    </tr>\n",
       "  </thead>\n",
       "  <tbody>\n",
       "    <tr>\n",
       "      <th>1</th>\n",
       "      <td>NaN</td>\n",
       "      <td>Foot Locker</td>\n",
       "      <td>1185732</td>\n",
       "      <td>2020-01-01</td>\n",
       "      <td>Northeast</td>\n",
       "      <td>New York</td>\n",
       "      <td>New York</td>\n",
       "      <td>Men's Street Footwear</td>\n",
       "      <td>50.0</td>\n",
       "      <td>1200</td>\n",
       "      <td>600000.0</td>\n",
       "      <td>300000.00</td>\n",
       "      <td>0.50</td>\n",
       "      <td>In-store</td>\n",
       "    </tr>\n",
       "    <tr>\n",
       "      <th>2</th>\n",
       "      <td>NaN</td>\n",
       "      <td>Foot Locker</td>\n",
       "      <td>1185732</td>\n",
       "      <td>2020-01-02</td>\n",
       "      <td>Northeast</td>\n",
       "      <td>New York</td>\n",
       "      <td>New York</td>\n",
       "      <td>Men's Athletic Footwear</td>\n",
       "      <td>50.0</td>\n",
       "      <td>1000</td>\n",
       "      <td>500000.0</td>\n",
       "      <td>150000.00</td>\n",
       "      <td>0.30</td>\n",
       "      <td>In-store</td>\n",
       "    </tr>\n",
       "    <tr>\n",
       "      <th>3</th>\n",
       "      <td>NaN</td>\n",
       "      <td>Foot Locker</td>\n",
       "      <td>1185732</td>\n",
       "      <td>2020-01-03</td>\n",
       "      <td>Northeast</td>\n",
       "      <td>New York</td>\n",
       "      <td>New York</td>\n",
       "      <td>Women's Street Footwear</td>\n",
       "      <td>40.0</td>\n",
       "      <td>1000</td>\n",
       "      <td>400000.0</td>\n",
       "      <td>140000.00</td>\n",
       "      <td>0.35</td>\n",
       "      <td>In-store</td>\n",
       "    </tr>\n",
       "    <tr>\n",
       "      <th>4</th>\n",
       "      <td>NaN</td>\n",
       "      <td>Foot Locker</td>\n",
       "      <td>1185732</td>\n",
       "      <td>2020-01-04</td>\n",
       "      <td>Northeast</td>\n",
       "      <td>New York</td>\n",
       "      <td>New York</td>\n",
       "      <td>Women's Athletic Footwear</td>\n",
       "      <td>45.0</td>\n",
       "      <td>850</td>\n",
       "      <td>382500.0</td>\n",
       "      <td>133875.00</td>\n",
       "      <td>0.35</td>\n",
       "      <td>In-store</td>\n",
       "    </tr>\n",
       "    <tr>\n",
       "      <th>5</th>\n",
       "      <td>NaN</td>\n",
       "      <td>Foot Locker</td>\n",
       "      <td>1185732</td>\n",
       "      <td>2020-01-05</td>\n",
       "      <td>Northeast</td>\n",
       "      <td>New York</td>\n",
       "      <td>New York</td>\n",
       "      <td>Men's Apparel</td>\n",
       "      <td>60.0</td>\n",
       "      <td>900</td>\n",
       "      <td>540000.0</td>\n",
       "      <td>162000.00</td>\n",
       "      <td>0.30</td>\n",
       "      <td>In-store</td>\n",
       "    </tr>\n",
       "    <tr>\n",
       "      <th>...</th>\n",
       "      <td>...</td>\n",
       "      <td>...</td>\n",
       "      <td>...</td>\n",
       "      <td>...</td>\n",
       "      <td>...</td>\n",
       "      <td>...</td>\n",
       "      <td>...</td>\n",
       "      <td>...</td>\n",
       "      <td>...</td>\n",
       "      <td>...</td>\n",
       "      <td>...</td>\n",
       "      <td>...</td>\n",
       "      <td>...</td>\n",
       "      <td>...</td>\n",
       "    </tr>\n",
       "    <tr>\n",
       "      <th>9644</th>\n",
       "      <td>NaN</td>\n",
       "      <td>Foot Locker</td>\n",
       "      <td>1185732</td>\n",
       "      <td>2021-01-24</td>\n",
       "      <td>Northeast</td>\n",
       "      <td>New Hampshire</td>\n",
       "      <td>Manchester</td>\n",
       "      <td>Men's Apparel</td>\n",
       "      <td>50.0</td>\n",
       "      <td>64</td>\n",
       "      <td>3200.0</td>\n",
       "      <td>896.00</td>\n",
       "      <td>0.28</td>\n",
       "      <td>Outlet</td>\n",
       "    </tr>\n",
       "    <tr>\n",
       "      <th>9645</th>\n",
       "      <td>NaN</td>\n",
       "      <td>Foot Locker</td>\n",
       "      <td>1185732</td>\n",
       "      <td>2021-01-24</td>\n",
       "      <td>Northeast</td>\n",
       "      <td>New Hampshire</td>\n",
       "      <td>Manchester</td>\n",
       "      <td>Women's Apparel</td>\n",
       "      <td>41.0</td>\n",
       "      <td>105</td>\n",
       "      <td>4305.0</td>\n",
       "      <td>1377.60</td>\n",
       "      <td>0.32</td>\n",
       "      <td>Outlet</td>\n",
       "    </tr>\n",
       "    <tr>\n",
       "      <th>9646</th>\n",
       "      <td>NaN</td>\n",
       "      <td>Foot Locker</td>\n",
       "      <td>1185732</td>\n",
       "      <td>2021-02-22</td>\n",
       "      <td>Northeast</td>\n",
       "      <td>New Hampshire</td>\n",
       "      <td>Manchester</td>\n",
       "      <td>Men's Street Footwear</td>\n",
       "      <td>41.0</td>\n",
       "      <td>184</td>\n",
       "      <td>7544.0</td>\n",
       "      <td>2791.28</td>\n",
       "      <td>0.37</td>\n",
       "      <td>Outlet</td>\n",
       "    </tr>\n",
       "    <tr>\n",
       "      <th>9647</th>\n",
       "      <td>NaN</td>\n",
       "      <td>Foot Locker</td>\n",
       "      <td>1185732</td>\n",
       "      <td>2021-02-22</td>\n",
       "      <td>Northeast</td>\n",
       "      <td>New Hampshire</td>\n",
       "      <td>Manchester</td>\n",
       "      <td>Men's Athletic Footwear</td>\n",
       "      <td>42.0</td>\n",
       "      <td>70</td>\n",
       "      <td>2940.0</td>\n",
       "      <td>1234.80</td>\n",
       "      <td>0.42</td>\n",
       "      <td>Outlet</td>\n",
       "    </tr>\n",
       "    <tr>\n",
       "      <th>9648</th>\n",
       "      <td>NaN</td>\n",
       "      <td>Foot Locker</td>\n",
       "      <td>1185732</td>\n",
       "      <td>2021-02-22</td>\n",
       "      <td>Northeast</td>\n",
       "      <td>New Hampshire</td>\n",
       "      <td>Manchester</td>\n",
       "      <td>Women's Street Footwear</td>\n",
       "      <td>29.0</td>\n",
       "      <td>83</td>\n",
       "      <td>2407.0</td>\n",
       "      <td>649.89</td>\n",
       "      <td>0.27</td>\n",
       "      <td>Outlet</td>\n",
       "    </tr>\n",
       "  </tbody>\n",
       "</table>\n",
       "<p>9648 rows × 14 columns</p>\n",
       "</div>"
      ],
      "text/plain": [
       "      Unnamed: 0     Retailer  Retailer ID Invoice Date     Region  \\\n",
       "1            NaN  Foot Locker      1185732   2020-01-01  Northeast   \n",
       "2            NaN  Foot Locker      1185732   2020-01-02  Northeast   \n",
       "3            NaN  Foot Locker      1185732   2020-01-03  Northeast   \n",
       "4            NaN  Foot Locker      1185732   2020-01-04  Northeast   \n",
       "5            NaN  Foot Locker      1185732   2020-01-05  Northeast   \n",
       "...          ...          ...          ...          ...        ...   \n",
       "9644         NaN  Foot Locker      1185732   2021-01-24  Northeast   \n",
       "9645         NaN  Foot Locker      1185732   2021-01-24  Northeast   \n",
       "9646         NaN  Foot Locker      1185732   2021-02-22  Northeast   \n",
       "9647         NaN  Foot Locker      1185732   2021-02-22  Northeast   \n",
       "9648         NaN  Foot Locker      1185732   2021-02-22  Northeast   \n",
       "\n",
       "              State        City                    Product  Price per Unit  \\\n",
       "1          New York    New York      Men's Street Footwear            50.0   \n",
       "2          New York    New York    Men's Athletic Footwear            50.0   \n",
       "3          New York    New York    Women's Street Footwear            40.0   \n",
       "4          New York    New York  Women's Athletic Footwear            45.0   \n",
       "5          New York    New York              Men's Apparel            60.0   \n",
       "...             ...         ...                        ...             ...   \n",
       "9644  New Hampshire  Manchester              Men's Apparel            50.0   \n",
       "9645  New Hampshire  Manchester            Women's Apparel            41.0   \n",
       "9646  New Hampshire  Manchester      Men's Street Footwear            41.0   \n",
       "9647  New Hampshire  Manchester    Men's Athletic Footwear            42.0   \n",
       "9648  New Hampshire  Manchester    Women's Street Footwear            29.0   \n",
       "\n",
       "      Units Sold  Total Sales  Operating Profit  Operating Margin Sales Method  \n",
       "1           1200     600000.0         300000.00              0.50     In-store  \n",
       "2           1000     500000.0         150000.00              0.30     In-store  \n",
       "3           1000     400000.0         140000.00              0.35     In-store  \n",
       "4            850     382500.0         133875.00              0.35     In-store  \n",
       "5            900     540000.0         162000.00              0.30     In-store  \n",
       "...          ...          ...               ...               ...          ...  \n",
       "9644          64       3200.0            896.00              0.28       Outlet  \n",
       "9645         105       4305.0           1377.60              0.32       Outlet  \n",
       "9646         184       7544.0           2791.28              0.37       Outlet  \n",
       "9647          70       2940.0           1234.80              0.42       Outlet  \n",
       "9648          83       2407.0            649.89              0.27       Outlet  \n",
       "\n",
       "[9648 rows x 14 columns]"
      ]
     },
     "execution_count": 15,
     "metadata": {},
     "output_type": "execute_result"
    }
   ],
   "source": [
    "import pandas as pd\n",
    "import numpy as np\n",
    "import matplotlib.pyplot as plt\n",
    "df = pd.read_excel(r\"C:\\Users\\DIVYANK\\Desktop\\kaggle\\New folder\\Adidas.xlsx\",skiprows=4)\n",
    "df.index = df.index+1\n",
    "df"
   ]
  },
  {
   "cell_type": "markdown",
   "id": "b568c08b",
   "metadata": {},
   "source": [
    "# Data pre-processing for EDA"
   ]
  },
  {
   "cell_type": "code",
   "execution_count": 3,
   "id": "6a7a799d",
   "metadata": {},
   "outputs": [
    {
     "data": {
      "text/html": [
       "<div>\n",
       "<style scoped>\n",
       "    .dataframe tbody tr th:only-of-type {\n",
       "        vertical-align: middle;\n",
       "    }\n",
       "\n",
       "    .dataframe tbody tr th {\n",
       "        vertical-align: top;\n",
       "    }\n",
       "\n",
       "    .dataframe thead th {\n",
       "        text-align: right;\n",
       "    }\n",
       "</style>\n",
       "<table border=\"1\" class=\"dataframe\">\n",
       "  <thead>\n",
       "    <tr style=\"text-align: right;\">\n",
       "      <th></th>\n",
       "      <th>Retailer</th>\n",
       "      <th>Retailer ID</th>\n",
       "      <th>Invoice Date</th>\n",
       "      <th>Region</th>\n",
       "      <th>State</th>\n",
       "      <th>City</th>\n",
       "      <th>Product</th>\n",
       "      <th>Price per Unit</th>\n",
       "      <th>Units Sold</th>\n",
       "      <th>Total Sales</th>\n",
       "      <th>Operating Profit</th>\n",
       "      <th>Operating Margin</th>\n",
       "      <th>Sales Method</th>\n",
       "    </tr>\n",
       "  </thead>\n",
       "  <tbody>\n",
       "    <tr>\n",
       "      <th>1</th>\n",
       "      <td>Foot Locker</td>\n",
       "      <td>1185732</td>\n",
       "      <td>2020-01-01</td>\n",
       "      <td>Northeast</td>\n",
       "      <td>New York</td>\n",
       "      <td>New York</td>\n",
       "      <td>Men's Street Footwear</td>\n",
       "      <td>50.0</td>\n",
       "      <td>1200</td>\n",
       "      <td>600000.0</td>\n",
       "      <td>300000.0</td>\n",
       "      <td>0.50</td>\n",
       "      <td>In-store</td>\n",
       "    </tr>\n",
       "    <tr>\n",
       "      <th>2</th>\n",
       "      <td>Foot Locker</td>\n",
       "      <td>1185732</td>\n",
       "      <td>2020-01-02</td>\n",
       "      <td>Northeast</td>\n",
       "      <td>New York</td>\n",
       "      <td>New York</td>\n",
       "      <td>Men's Athletic Footwear</td>\n",
       "      <td>50.0</td>\n",
       "      <td>1000</td>\n",
       "      <td>500000.0</td>\n",
       "      <td>150000.0</td>\n",
       "      <td>0.30</td>\n",
       "      <td>In-store</td>\n",
       "    </tr>\n",
       "    <tr>\n",
       "      <th>3</th>\n",
       "      <td>Foot Locker</td>\n",
       "      <td>1185732</td>\n",
       "      <td>2020-01-03</td>\n",
       "      <td>Northeast</td>\n",
       "      <td>New York</td>\n",
       "      <td>New York</td>\n",
       "      <td>Women's Street Footwear</td>\n",
       "      <td>40.0</td>\n",
       "      <td>1000</td>\n",
       "      <td>400000.0</td>\n",
       "      <td>140000.0</td>\n",
       "      <td>0.35</td>\n",
       "      <td>In-store</td>\n",
       "    </tr>\n",
       "    <tr>\n",
       "      <th>4</th>\n",
       "      <td>Foot Locker</td>\n",
       "      <td>1185732</td>\n",
       "      <td>2020-01-04</td>\n",
       "      <td>Northeast</td>\n",
       "      <td>New York</td>\n",
       "      <td>New York</td>\n",
       "      <td>Women's Athletic Footwear</td>\n",
       "      <td>45.0</td>\n",
       "      <td>850</td>\n",
       "      <td>382500.0</td>\n",
       "      <td>133875.0</td>\n",
       "      <td>0.35</td>\n",
       "      <td>In-store</td>\n",
       "    </tr>\n",
       "    <tr>\n",
       "      <th>5</th>\n",
       "      <td>Foot Locker</td>\n",
       "      <td>1185732</td>\n",
       "      <td>2020-01-05</td>\n",
       "      <td>Northeast</td>\n",
       "      <td>New York</td>\n",
       "      <td>New York</td>\n",
       "      <td>Men's Apparel</td>\n",
       "      <td>60.0</td>\n",
       "      <td>900</td>\n",
       "      <td>540000.0</td>\n",
       "      <td>162000.0</td>\n",
       "      <td>0.30</td>\n",
       "      <td>In-store</td>\n",
       "    </tr>\n",
       "  </tbody>\n",
       "</table>\n",
       "</div>"
      ],
      "text/plain": [
       "      Retailer  Retailer ID Invoice Date     Region     State      City  \\\n",
       "1  Foot Locker      1185732   2020-01-01  Northeast  New York  New York   \n",
       "2  Foot Locker      1185732   2020-01-02  Northeast  New York  New York   \n",
       "3  Foot Locker      1185732   2020-01-03  Northeast  New York  New York   \n",
       "4  Foot Locker      1185732   2020-01-04  Northeast  New York  New York   \n",
       "5  Foot Locker      1185732   2020-01-05  Northeast  New York  New York   \n",
       "\n",
       "                     Product  Price per Unit  Units Sold  Total Sales  \\\n",
       "1      Men's Street Footwear            50.0        1200     600000.0   \n",
       "2    Men's Athletic Footwear            50.0        1000     500000.0   \n",
       "3    Women's Street Footwear            40.0        1000     400000.0   \n",
       "4  Women's Athletic Footwear            45.0         850     382500.0   \n",
       "5              Men's Apparel            60.0         900     540000.0   \n",
       "\n",
       "   Operating Profit  Operating Margin Sales Method  \n",
       "1          300000.0              0.50     In-store  \n",
       "2          150000.0              0.30     In-store  \n",
       "3          140000.0              0.35     In-store  \n",
       "4          133875.0              0.35     In-store  \n",
       "5          162000.0              0.30     In-store  "
      ]
     },
     "execution_count": 3,
     "metadata": {},
     "output_type": "execute_result"
    }
   ],
   "source": [
    "df = df.drop(columns = 'Unnamed: 0')\n",
    "df.head()"
   ]
  },
  {
   "cell_type": "code",
   "execution_count": 4,
   "id": "fb988fc1",
   "metadata": {},
   "outputs": [
    {
     "data": {
      "text/html": [
       "<div>\n",
       "<style scoped>\n",
       "    .dataframe tbody tr th:only-of-type {\n",
       "        vertical-align: middle;\n",
       "    }\n",
       "\n",
       "    .dataframe tbody tr th {\n",
       "        vertical-align: top;\n",
       "    }\n",
       "\n",
       "    .dataframe thead th {\n",
       "        text-align: right;\n",
       "    }\n",
       "</style>\n",
       "<table border=\"1\" class=\"dataframe\">\n",
       "  <thead>\n",
       "    <tr style=\"text-align: right;\">\n",
       "      <th></th>\n",
       "      <th>Retailer</th>\n",
       "      <th>Retailer ID</th>\n",
       "      <th>Invoice Date</th>\n",
       "      <th>Region</th>\n",
       "      <th>State</th>\n",
       "      <th>City</th>\n",
       "      <th>Product</th>\n",
       "      <th>Price per Unit</th>\n",
       "      <th>Units Sold</th>\n",
       "      <th>Total Sales</th>\n",
       "      <th>Operating Profit</th>\n",
       "      <th>Operating Margin</th>\n",
       "      <th>Sales Method</th>\n",
       "    </tr>\n",
       "  </thead>\n",
       "  <tbody>\n",
       "    <tr>\n",
       "      <th>1</th>\n",
       "      <td>Foot Locker</td>\n",
       "      <td>1185732</td>\n",
       "      <td>2020-01-01</td>\n",
       "      <td>Northeast</td>\n",
       "      <td>New York</td>\n",
       "      <td>New York</td>\n",
       "      <td>Men's Street Footwear</td>\n",
       "      <td>50.0</td>\n",
       "      <td>1200</td>\n",
       "      <td>600000.0</td>\n",
       "      <td>300000.0</td>\n",
       "      <td>0.50</td>\n",
       "      <td>In-store</td>\n",
       "    </tr>\n",
       "    <tr>\n",
       "      <th>2</th>\n",
       "      <td>Foot Locker</td>\n",
       "      <td>1185732</td>\n",
       "      <td>2020-01-02</td>\n",
       "      <td>Northeast</td>\n",
       "      <td>New York</td>\n",
       "      <td>New York</td>\n",
       "      <td>Men's Athletic Footwear</td>\n",
       "      <td>50.0</td>\n",
       "      <td>1000</td>\n",
       "      <td>500000.0</td>\n",
       "      <td>150000.0</td>\n",
       "      <td>0.30</td>\n",
       "      <td>In-store</td>\n",
       "    </tr>\n",
       "    <tr>\n",
       "      <th>3</th>\n",
       "      <td>Foot Locker</td>\n",
       "      <td>1185732</td>\n",
       "      <td>2020-01-03</td>\n",
       "      <td>Northeast</td>\n",
       "      <td>New York</td>\n",
       "      <td>New York</td>\n",
       "      <td>Women's Street Footwear</td>\n",
       "      <td>40.0</td>\n",
       "      <td>1000</td>\n",
       "      <td>400000.0</td>\n",
       "      <td>140000.0</td>\n",
       "      <td>0.35</td>\n",
       "      <td>In-store</td>\n",
       "    </tr>\n",
       "    <tr>\n",
       "      <th>4</th>\n",
       "      <td>Foot Locker</td>\n",
       "      <td>1185732</td>\n",
       "      <td>2020-01-04</td>\n",
       "      <td>Northeast</td>\n",
       "      <td>New York</td>\n",
       "      <td>New York</td>\n",
       "      <td>Women's Athletic Footwear</td>\n",
       "      <td>45.0</td>\n",
       "      <td>850</td>\n",
       "      <td>382500.0</td>\n",
       "      <td>133875.0</td>\n",
       "      <td>0.35</td>\n",
       "      <td>In-store</td>\n",
       "    </tr>\n",
       "    <tr>\n",
       "      <th>5</th>\n",
       "      <td>Foot Locker</td>\n",
       "      <td>1185732</td>\n",
       "      <td>2020-01-05</td>\n",
       "      <td>Northeast</td>\n",
       "      <td>New York</td>\n",
       "      <td>New York</td>\n",
       "      <td>Men's Apparel</td>\n",
       "      <td>60.0</td>\n",
       "      <td>900</td>\n",
       "      <td>540000.0</td>\n",
       "      <td>162000.0</td>\n",
       "      <td>0.30</td>\n",
       "      <td>In-store</td>\n",
       "    </tr>\n",
       "  </tbody>\n",
       "</table>\n",
       "</div>"
      ],
      "text/plain": [
       "      Retailer  Retailer ID Invoice Date     Region     State      City  \\\n",
       "1  Foot Locker      1185732   2020-01-01  Northeast  New York  New York   \n",
       "2  Foot Locker      1185732   2020-01-02  Northeast  New York  New York   \n",
       "3  Foot Locker      1185732   2020-01-03  Northeast  New York  New York   \n",
       "4  Foot Locker      1185732   2020-01-04  Northeast  New York  New York   \n",
       "5  Foot Locker      1185732   2020-01-05  Northeast  New York  New York   \n",
       "\n",
       "                     Product  Price per Unit  Units Sold  Total Sales  \\\n",
       "1      Men's Street Footwear            50.0        1200     600000.0   \n",
       "2    Men's Athletic Footwear            50.0        1000     500000.0   \n",
       "3    Women's Street Footwear            40.0        1000     400000.0   \n",
       "4  Women's Athletic Footwear            45.0         850     382500.0   \n",
       "5              Men's Apparel            60.0         900     540000.0   \n",
       "\n",
       "   Operating Profit  Operating Margin Sales Method  \n",
       "1          300000.0              0.50     In-store  \n",
       "2          150000.0              0.30     In-store  \n",
       "3          140000.0              0.35     In-store  \n",
       "4          133875.0              0.35     In-store  \n",
       "5          162000.0              0.30     In-store  "
      ]
     },
     "execution_count": 4,
     "metadata": {},
     "output_type": "execute_result"
    }
   ],
   "source": [
    "df.head()"
   ]
  },
  {
   "cell_type": "code",
   "execution_count": 5,
   "id": "7ae423fc",
   "metadata": {},
   "outputs": [
    {
     "data": {
      "text/plain": [
       "Retailer                    object\n",
       "Retailer ID                  int64\n",
       "Invoice Date        datetime64[ns]\n",
       "Region                      object\n",
       "State                       object\n",
       "City                        object\n",
       "Product                     object\n",
       "Price per Unit             float64\n",
       "Units Sold                   int64\n",
       "Total Sales                float64\n",
       "Operating Profit           float64\n",
       "Operating Margin           float64\n",
       "Sales Method                object\n",
       "dtype: object"
      ]
     },
     "execution_count": 5,
     "metadata": {},
     "output_type": "execute_result"
    }
   ],
   "source": [
    "df.dtypes"
   ]
  },
  {
   "cell_type": "code",
   "execution_count": 6,
   "id": "4e976fa7",
   "metadata": {},
   "outputs": [
    {
     "data": {
      "text/plain": [
       "(9648, 13)"
      ]
     },
     "execution_count": 6,
     "metadata": {},
     "output_type": "execute_result"
    }
   ],
   "source": [
    "df.shape"
   ]
  },
  {
   "cell_type": "code",
   "execution_count": 7,
   "id": "cbf67c02",
   "metadata": {},
   "outputs": [
    {
     "data": {
      "text/plain": [
       "Retailer            0\n",
       "Retailer ID         0\n",
       "Invoice Date        0\n",
       "Region              0\n",
       "State               0\n",
       "City                0\n",
       "Product             0\n",
       "Price per Unit      0\n",
       "Units Sold          0\n",
       "Total Sales         0\n",
       "Operating Profit    0\n",
       "Operating Margin    0\n",
       "Sales Method        0\n",
       "dtype: int64"
      ]
     },
     "execution_count": 7,
     "metadata": {},
     "output_type": "execute_result"
    }
   ],
   "source": [
    "df.isnull().sum()"
   ]
  },
  {
   "cell_type": "code",
   "execution_count": 8,
   "id": "0f15f273",
   "metadata": {},
   "outputs": [
    {
     "data": {
      "text/html": [
       "<div>\n",
       "<style scoped>\n",
       "    .dataframe tbody tr th:only-of-type {\n",
       "        vertical-align: middle;\n",
       "    }\n",
       "\n",
       "    .dataframe tbody tr th {\n",
       "        vertical-align: top;\n",
       "    }\n",
       "\n",
       "    .dataframe thead th {\n",
       "        text-align: right;\n",
       "    }\n",
       "</style>\n",
       "<table border=\"1\" class=\"dataframe\">\n",
       "  <thead>\n",
       "    <tr style=\"text-align: right;\">\n",
       "      <th></th>\n",
       "      <th>Retailer</th>\n",
       "      <th>Retailer ID</th>\n",
       "      <th>Invoice Date</th>\n",
       "      <th>Region</th>\n",
       "      <th>State</th>\n",
       "      <th>City</th>\n",
       "      <th>Product</th>\n",
       "      <th>Price per Unit</th>\n",
       "      <th>Units Sold</th>\n",
       "      <th>Total Sales</th>\n",
       "      <th>Operating Profit</th>\n",
       "      <th>Operating Margin</th>\n",
       "      <th>Sales Method</th>\n",
       "      <th>Month</th>\n",
       "      <th>Year</th>\n",
       "    </tr>\n",
       "  </thead>\n",
       "  <tbody>\n",
       "    <tr>\n",
       "      <th>1</th>\n",
       "      <td>Foot Locker</td>\n",
       "      <td>1185732</td>\n",
       "      <td>2020-01-01</td>\n",
       "      <td>Northeast</td>\n",
       "      <td>New York</td>\n",
       "      <td>New York</td>\n",
       "      <td>Men's Street Footwear</td>\n",
       "      <td>50.0</td>\n",
       "      <td>1200</td>\n",
       "      <td>600000.0</td>\n",
       "      <td>300000.00</td>\n",
       "      <td>0.50</td>\n",
       "      <td>In-store</td>\n",
       "      <td>1</td>\n",
       "      <td>2020</td>\n",
       "    </tr>\n",
       "    <tr>\n",
       "      <th>2</th>\n",
       "      <td>Foot Locker</td>\n",
       "      <td>1185732</td>\n",
       "      <td>2020-01-02</td>\n",
       "      <td>Northeast</td>\n",
       "      <td>New York</td>\n",
       "      <td>New York</td>\n",
       "      <td>Men's Athletic Footwear</td>\n",
       "      <td>50.0</td>\n",
       "      <td>1000</td>\n",
       "      <td>500000.0</td>\n",
       "      <td>150000.00</td>\n",
       "      <td>0.30</td>\n",
       "      <td>In-store</td>\n",
       "      <td>1</td>\n",
       "      <td>2020</td>\n",
       "    </tr>\n",
       "    <tr>\n",
       "      <th>3</th>\n",
       "      <td>Foot Locker</td>\n",
       "      <td>1185732</td>\n",
       "      <td>2020-01-03</td>\n",
       "      <td>Northeast</td>\n",
       "      <td>New York</td>\n",
       "      <td>New York</td>\n",
       "      <td>Women's Street Footwear</td>\n",
       "      <td>40.0</td>\n",
       "      <td>1000</td>\n",
       "      <td>400000.0</td>\n",
       "      <td>140000.00</td>\n",
       "      <td>0.35</td>\n",
       "      <td>In-store</td>\n",
       "      <td>1</td>\n",
       "      <td>2020</td>\n",
       "    </tr>\n",
       "    <tr>\n",
       "      <th>4</th>\n",
       "      <td>Foot Locker</td>\n",
       "      <td>1185732</td>\n",
       "      <td>2020-01-04</td>\n",
       "      <td>Northeast</td>\n",
       "      <td>New York</td>\n",
       "      <td>New York</td>\n",
       "      <td>Women's Athletic Footwear</td>\n",
       "      <td>45.0</td>\n",
       "      <td>850</td>\n",
       "      <td>382500.0</td>\n",
       "      <td>133875.00</td>\n",
       "      <td>0.35</td>\n",
       "      <td>In-store</td>\n",
       "      <td>1</td>\n",
       "      <td>2020</td>\n",
       "    </tr>\n",
       "    <tr>\n",
       "      <th>5</th>\n",
       "      <td>Foot Locker</td>\n",
       "      <td>1185732</td>\n",
       "      <td>2020-01-05</td>\n",
       "      <td>Northeast</td>\n",
       "      <td>New York</td>\n",
       "      <td>New York</td>\n",
       "      <td>Men's Apparel</td>\n",
       "      <td>60.0</td>\n",
       "      <td>900</td>\n",
       "      <td>540000.0</td>\n",
       "      <td>162000.00</td>\n",
       "      <td>0.30</td>\n",
       "      <td>In-store</td>\n",
       "      <td>1</td>\n",
       "      <td>2020</td>\n",
       "    </tr>\n",
       "    <tr>\n",
       "      <th>...</th>\n",
       "      <td>...</td>\n",
       "      <td>...</td>\n",
       "      <td>...</td>\n",
       "      <td>...</td>\n",
       "      <td>...</td>\n",
       "      <td>...</td>\n",
       "      <td>...</td>\n",
       "      <td>...</td>\n",
       "      <td>...</td>\n",
       "      <td>...</td>\n",
       "      <td>...</td>\n",
       "      <td>...</td>\n",
       "      <td>...</td>\n",
       "      <td>...</td>\n",
       "      <td>...</td>\n",
       "    </tr>\n",
       "    <tr>\n",
       "      <th>9644</th>\n",
       "      <td>Foot Locker</td>\n",
       "      <td>1185732</td>\n",
       "      <td>2021-01-24</td>\n",
       "      <td>Northeast</td>\n",
       "      <td>New Hampshire</td>\n",
       "      <td>Manchester</td>\n",
       "      <td>Men's Apparel</td>\n",
       "      <td>50.0</td>\n",
       "      <td>64</td>\n",
       "      <td>3200.0</td>\n",
       "      <td>896.00</td>\n",
       "      <td>0.28</td>\n",
       "      <td>Outlet</td>\n",
       "      <td>1</td>\n",
       "      <td>2021</td>\n",
       "    </tr>\n",
       "    <tr>\n",
       "      <th>9645</th>\n",
       "      <td>Foot Locker</td>\n",
       "      <td>1185732</td>\n",
       "      <td>2021-01-24</td>\n",
       "      <td>Northeast</td>\n",
       "      <td>New Hampshire</td>\n",
       "      <td>Manchester</td>\n",
       "      <td>Women's Apparel</td>\n",
       "      <td>41.0</td>\n",
       "      <td>105</td>\n",
       "      <td>4305.0</td>\n",
       "      <td>1377.60</td>\n",
       "      <td>0.32</td>\n",
       "      <td>Outlet</td>\n",
       "      <td>1</td>\n",
       "      <td>2021</td>\n",
       "    </tr>\n",
       "    <tr>\n",
       "      <th>9646</th>\n",
       "      <td>Foot Locker</td>\n",
       "      <td>1185732</td>\n",
       "      <td>2021-02-22</td>\n",
       "      <td>Northeast</td>\n",
       "      <td>New Hampshire</td>\n",
       "      <td>Manchester</td>\n",
       "      <td>Men's Street Footwear</td>\n",
       "      <td>41.0</td>\n",
       "      <td>184</td>\n",
       "      <td>7544.0</td>\n",
       "      <td>2791.28</td>\n",
       "      <td>0.37</td>\n",
       "      <td>Outlet</td>\n",
       "      <td>2</td>\n",
       "      <td>2021</td>\n",
       "    </tr>\n",
       "    <tr>\n",
       "      <th>9647</th>\n",
       "      <td>Foot Locker</td>\n",
       "      <td>1185732</td>\n",
       "      <td>2021-02-22</td>\n",
       "      <td>Northeast</td>\n",
       "      <td>New Hampshire</td>\n",
       "      <td>Manchester</td>\n",
       "      <td>Men's Athletic Footwear</td>\n",
       "      <td>42.0</td>\n",
       "      <td>70</td>\n",
       "      <td>2940.0</td>\n",
       "      <td>1234.80</td>\n",
       "      <td>0.42</td>\n",
       "      <td>Outlet</td>\n",
       "      <td>2</td>\n",
       "      <td>2021</td>\n",
       "    </tr>\n",
       "    <tr>\n",
       "      <th>9648</th>\n",
       "      <td>Foot Locker</td>\n",
       "      <td>1185732</td>\n",
       "      <td>2021-02-22</td>\n",
       "      <td>Northeast</td>\n",
       "      <td>New Hampshire</td>\n",
       "      <td>Manchester</td>\n",
       "      <td>Women's Street Footwear</td>\n",
       "      <td>29.0</td>\n",
       "      <td>83</td>\n",
       "      <td>2407.0</td>\n",
       "      <td>649.89</td>\n",
       "      <td>0.27</td>\n",
       "      <td>Outlet</td>\n",
       "      <td>2</td>\n",
       "      <td>2021</td>\n",
       "    </tr>\n",
       "  </tbody>\n",
       "</table>\n",
       "<p>9648 rows × 15 columns</p>\n",
       "</div>"
      ],
      "text/plain": [
       "         Retailer  Retailer ID Invoice Date     Region          State  \\\n",
       "1     Foot Locker      1185732   2020-01-01  Northeast       New York   \n",
       "2     Foot Locker      1185732   2020-01-02  Northeast       New York   \n",
       "3     Foot Locker      1185732   2020-01-03  Northeast       New York   \n",
       "4     Foot Locker      1185732   2020-01-04  Northeast       New York   \n",
       "5     Foot Locker      1185732   2020-01-05  Northeast       New York   \n",
       "...           ...          ...          ...        ...            ...   \n",
       "9644  Foot Locker      1185732   2021-01-24  Northeast  New Hampshire   \n",
       "9645  Foot Locker      1185732   2021-01-24  Northeast  New Hampshire   \n",
       "9646  Foot Locker      1185732   2021-02-22  Northeast  New Hampshire   \n",
       "9647  Foot Locker      1185732   2021-02-22  Northeast  New Hampshire   \n",
       "9648  Foot Locker      1185732   2021-02-22  Northeast  New Hampshire   \n",
       "\n",
       "            City                    Product  Price per Unit  Units Sold  \\\n",
       "1       New York      Men's Street Footwear            50.0        1200   \n",
       "2       New York    Men's Athletic Footwear            50.0        1000   \n",
       "3       New York    Women's Street Footwear            40.0        1000   \n",
       "4       New York  Women's Athletic Footwear            45.0         850   \n",
       "5       New York              Men's Apparel            60.0         900   \n",
       "...          ...                        ...             ...         ...   \n",
       "9644  Manchester              Men's Apparel            50.0          64   \n",
       "9645  Manchester            Women's Apparel            41.0         105   \n",
       "9646  Manchester      Men's Street Footwear            41.0         184   \n",
       "9647  Manchester    Men's Athletic Footwear            42.0          70   \n",
       "9648  Manchester    Women's Street Footwear            29.0          83   \n",
       "\n",
       "      Total Sales  Operating Profit  Operating Margin Sales Method  Month  \\\n",
       "1        600000.0         300000.00              0.50     In-store      1   \n",
       "2        500000.0         150000.00              0.30     In-store      1   \n",
       "3        400000.0         140000.00              0.35     In-store      1   \n",
       "4        382500.0         133875.00              0.35     In-store      1   \n",
       "5        540000.0         162000.00              0.30     In-store      1   \n",
       "...           ...               ...               ...          ...    ...   \n",
       "9644       3200.0            896.00              0.28       Outlet      1   \n",
       "9645       4305.0           1377.60              0.32       Outlet      1   \n",
       "9646       7544.0           2791.28              0.37       Outlet      2   \n",
       "9647       2940.0           1234.80              0.42       Outlet      2   \n",
       "9648       2407.0            649.89              0.27       Outlet      2   \n",
       "\n",
       "      Year  \n",
       "1     2020  \n",
       "2     2020  \n",
       "3     2020  \n",
       "4     2020  \n",
       "5     2020  \n",
       "...    ...  \n",
       "9644  2021  \n",
       "9645  2021  \n",
       "9646  2021  \n",
       "9647  2021  \n",
       "9648  2021  \n",
       "\n",
       "[9648 rows x 15 columns]"
      ]
     },
     "execution_count": 8,
     "metadata": {},
     "output_type": "execute_result"
    }
   ],
   "source": [
    "df['Month'] = df['Invoice Date'].dt.month\n",
    "df['Year'] = df['Invoice Date'].dt.year\n",
    "df"
   ]
  },
  {
   "cell_type": "code",
   "execution_count": 9,
   "id": "5d0d47fe",
   "metadata": {},
   "outputs": [
    {
     "data": {
      "text/html": [
       "<div>\n",
       "<style scoped>\n",
       "    .dataframe tbody tr th:only-of-type {\n",
       "        vertical-align: middle;\n",
       "    }\n",
       "\n",
       "    .dataframe tbody tr th {\n",
       "        vertical-align: top;\n",
       "    }\n",
       "\n",
       "    .dataframe thead th {\n",
       "        text-align: right;\n",
       "    }\n",
       "</style>\n",
       "<table border=\"1\" class=\"dataframe\">\n",
       "  <thead>\n",
       "    <tr style=\"text-align: right;\">\n",
       "      <th></th>\n",
       "      <th>Retailer</th>\n",
       "      <th>Retailer ID</th>\n",
       "      <th>Invoice Date</th>\n",
       "      <th>Region</th>\n",
       "      <th>State</th>\n",
       "      <th>City</th>\n",
       "      <th>Product</th>\n",
       "      <th>Price per Unit</th>\n",
       "      <th>Units Sold</th>\n",
       "      <th>Total Sales</th>\n",
       "      <th>Operating Profit</th>\n",
       "      <th>Operating Margin</th>\n",
       "      <th>Sales Method</th>\n",
       "      <th>Month</th>\n",
       "      <th>Year</th>\n",
       "    </tr>\n",
       "  </thead>\n",
       "  <tbody>\n",
       "    <tr>\n",
       "      <th>1</th>\n",
       "      <td>Foot Locker</td>\n",
       "      <td>1185732</td>\n",
       "      <td>2020-01-01</td>\n",
       "      <td>Northeast</td>\n",
       "      <td>New York</td>\n",
       "      <td>New York</td>\n",
       "      <td>Men's Street Footwear</td>\n",
       "      <td>50.0</td>\n",
       "      <td>1200</td>\n",
       "      <td>600000.0</td>\n",
       "      <td>300000.00</td>\n",
       "      <td>0.50</td>\n",
       "      <td>In-store</td>\n",
       "      <td>1</td>\n",
       "      <td>2020</td>\n",
       "    </tr>\n",
       "    <tr>\n",
       "      <th>2</th>\n",
       "      <td>Foot Locker</td>\n",
       "      <td>1185732</td>\n",
       "      <td>2020-01-02</td>\n",
       "      <td>Northeast</td>\n",
       "      <td>New York</td>\n",
       "      <td>New York</td>\n",
       "      <td>Men's Athletic Footwear</td>\n",
       "      <td>50.0</td>\n",
       "      <td>1000</td>\n",
       "      <td>500000.0</td>\n",
       "      <td>150000.00</td>\n",
       "      <td>0.30</td>\n",
       "      <td>In-store</td>\n",
       "      <td>1</td>\n",
       "      <td>2020</td>\n",
       "    </tr>\n",
       "    <tr>\n",
       "      <th>3</th>\n",
       "      <td>Foot Locker</td>\n",
       "      <td>1185732</td>\n",
       "      <td>2020-01-03</td>\n",
       "      <td>Northeast</td>\n",
       "      <td>New York</td>\n",
       "      <td>New York</td>\n",
       "      <td>Women's Street Footwear</td>\n",
       "      <td>40.0</td>\n",
       "      <td>1000</td>\n",
       "      <td>400000.0</td>\n",
       "      <td>140000.00</td>\n",
       "      <td>0.35</td>\n",
       "      <td>In-store</td>\n",
       "      <td>1</td>\n",
       "      <td>2020</td>\n",
       "    </tr>\n",
       "    <tr>\n",
       "      <th>4</th>\n",
       "      <td>Foot Locker</td>\n",
       "      <td>1185732</td>\n",
       "      <td>2020-01-04</td>\n",
       "      <td>Northeast</td>\n",
       "      <td>New York</td>\n",
       "      <td>New York</td>\n",
       "      <td>Women's Athletic Footwear</td>\n",
       "      <td>45.0</td>\n",
       "      <td>850</td>\n",
       "      <td>382500.0</td>\n",
       "      <td>133875.00</td>\n",
       "      <td>0.35</td>\n",
       "      <td>In-store</td>\n",
       "      <td>1</td>\n",
       "      <td>2020</td>\n",
       "    </tr>\n",
       "    <tr>\n",
       "      <th>5</th>\n",
       "      <td>Foot Locker</td>\n",
       "      <td>1185732</td>\n",
       "      <td>2020-01-05</td>\n",
       "      <td>Northeast</td>\n",
       "      <td>New York</td>\n",
       "      <td>New York</td>\n",
       "      <td>Men's Apparel</td>\n",
       "      <td>60.0</td>\n",
       "      <td>900</td>\n",
       "      <td>540000.0</td>\n",
       "      <td>162000.00</td>\n",
       "      <td>0.30</td>\n",
       "      <td>In-store</td>\n",
       "      <td>1</td>\n",
       "      <td>2020</td>\n",
       "    </tr>\n",
       "    <tr>\n",
       "      <th>...</th>\n",
       "      <td>...</td>\n",
       "      <td>...</td>\n",
       "      <td>...</td>\n",
       "      <td>...</td>\n",
       "      <td>...</td>\n",
       "      <td>...</td>\n",
       "      <td>...</td>\n",
       "      <td>...</td>\n",
       "      <td>...</td>\n",
       "      <td>...</td>\n",
       "      <td>...</td>\n",
       "      <td>...</td>\n",
       "      <td>...</td>\n",
       "      <td>...</td>\n",
       "      <td>...</td>\n",
       "    </tr>\n",
       "    <tr>\n",
       "      <th>8276</th>\n",
       "      <td>West Gear</td>\n",
       "      <td>1128299</td>\n",
       "      <td>2020-03-14</td>\n",
       "      <td>West</td>\n",
       "      <td>Nevada</td>\n",
       "      <td>Las Vegas</td>\n",
       "      <td>Women's Apparel</td>\n",
       "      <td>56.0</td>\n",
       "      <td>170</td>\n",
       "      <td>9520.0</td>\n",
       "      <td>1713.60</td>\n",
       "      <td>0.18</td>\n",
       "      <td>Outlet</td>\n",
       "      <td>3</td>\n",
       "      <td>2020</td>\n",
       "    </tr>\n",
       "    <tr>\n",
       "      <th>8277</th>\n",
       "      <td>West Gear</td>\n",
       "      <td>1128299</td>\n",
       "      <td>2020-03-15</td>\n",
       "      <td>West</td>\n",
       "      <td>Nevada</td>\n",
       "      <td>Las Vegas</td>\n",
       "      <td>Men's Street Footwear</td>\n",
       "      <td>20.0</td>\n",
       "      <td>149</td>\n",
       "      <td>2980.0</td>\n",
       "      <td>1192.00</td>\n",
       "      <td>0.40</td>\n",
       "      <td>Outlet</td>\n",
       "      <td>3</td>\n",
       "      <td>2020</td>\n",
       "    </tr>\n",
       "    <tr>\n",
       "      <th>8278</th>\n",
       "      <td>West Gear</td>\n",
       "      <td>1128299</td>\n",
       "      <td>2020-03-16</td>\n",
       "      <td>West</td>\n",
       "      <td>Nevada</td>\n",
       "      <td>Las Vegas</td>\n",
       "      <td>Men's Athletic Footwear</td>\n",
       "      <td>31.0</td>\n",
       "      <td>145</td>\n",
       "      <td>4495.0</td>\n",
       "      <td>1123.75</td>\n",
       "      <td>0.25</td>\n",
       "      <td>Outlet</td>\n",
       "      <td>3</td>\n",
       "      <td>2020</td>\n",
       "    </tr>\n",
       "    <tr>\n",
       "      <th>8279</th>\n",
       "      <td>West Gear</td>\n",
       "      <td>1128299</td>\n",
       "      <td>2020-03-17</td>\n",
       "      <td>West</td>\n",
       "      <td>Nevada</td>\n",
       "      <td>Las Vegas</td>\n",
       "      <td>Women's Street Footwear</td>\n",
       "      <td>26.0</td>\n",
       "      <td>128</td>\n",
       "      <td>3328.0</td>\n",
       "      <td>1397.76</td>\n",
       "      <td>0.42</td>\n",
       "      <td>Outlet</td>\n",
       "      <td>3</td>\n",
       "      <td>2020</td>\n",
       "    </tr>\n",
       "    <tr>\n",
       "      <th>8280</th>\n",
       "      <td>West Gear</td>\n",
       "      <td>1128299</td>\n",
       "      <td>2020-03-18</td>\n",
       "      <td>West</td>\n",
       "      <td>Nevada</td>\n",
       "      <td>Las Vegas</td>\n",
       "      <td>Women's Athletic Footwear</td>\n",
       "      <td>26.0</td>\n",
       "      <td>96</td>\n",
       "      <td>2496.0</td>\n",
       "      <td>848.64</td>\n",
       "      <td>0.34</td>\n",
       "      <td>Outlet</td>\n",
       "      <td>3</td>\n",
       "      <td>2020</td>\n",
       "    </tr>\n",
       "  </tbody>\n",
       "</table>\n",
       "<p>1302 rows × 15 columns</p>\n",
       "</div>"
      ],
      "text/plain": [
       "         Retailer  Retailer ID Invoice Date     Region     State       City  \\\n",
       "1     Foot Locker      1185732   2020-01-01  Northeast  New York   New York   \n",
       "2     Foot Locker      1185732   2020-01-02  Northeast  New York   New York   \n",
       "3     Foot Locker      1185732   2020-01-03  Northeast  New York   New York   \n",
       "4     Foot Locker      1185732   2020-01-04  Northeast  New York   New York   \n",
       "5     Foot Locker      1185732   2020-01-05  Northeast  New York   New York   \n",
       "...           ...          ...          ...        ...       ...        ...   \n",
       "8276    West Gear      1128299   2020-03-14       West    Nevada  Las Vegas   \n",
       "8277    West Gear      1128299   2020-03-15       West    Nevada  Las Vegas   \n",
       "8278    West Gear      1128299   2020-03-16       West    Nevada  Las Vegas   \n",
       "8279    West Gear      1128299   2020-03-17       West    Nevada  Las Vegas   \n",
       "8280    West Gear      1128299   2020-03-18       West    Nevada  Las Vegas   \n",
       "\n",
       "                        Product  Price per Unit  Units Sold  Total Sales  \\\n",
       "1         Men's Street Footwear            50.0        1200     600000.0   \n",
       "2       Men's Athletic Footwear            50.0        1000     500000.0   \n",
       "3       Women's Street Footwear            40.0        1000     400000.0   \n",
       "4     Women's Athletic Footwear            45.0         850     382500.0   \n",
       "5                 Men's Apparel            60.0         900     540000.0   \n",
       "...                         ...             ...         ...          ...   \n",
       "8276            Women's Apparel            56.0         170       9520.0   \n",
       "8277      Men's Street Footwear            20.0         149       2980.0   \n",
       "8278    Men's Athletic Footwear            31.0         145       4495.0   \n",
       "8279    Women's Street Footwear            26.0         128       3328.0   \n",
       "8280  Women's Athletic Footwear            26.0          96       2496.0   \n",
       "\n",
       "      Operating Profit  Operating Margin Sales Method  Month  Year  \n",
       "1            300000.00              0.50     In-store      1  2020  \n",
       "2            150000.00              0.30     In-store      1  2020  \n",
       "3            140000.00              0.35     In-store      1  2020  \n",
       "4            133875.00              0.35     In-store      1  2020  \n",
       "5            162000.00              0.30     In-store      1  2020  \n",
       "...                ...               ...          ...    ...   ...  \n",
       "8276           1713.60              0.18       Outlet      3  2020  \n",
       "8277           1192.00              0.40       Outlet      3  2020  \n",
       "8278           1123.75              0.25       Outlet      3  2020  \n",
       "8279           1397.76              0.42       Outlet      3  2020  \n",
       "8280            848.64              0.34       Outlet      3  2020  \n",
       "\n",
       "[1302 rows x 15 columns]"
      ]
     },
     "execution_count": 9,
     "metadata": {},
     "output_type": "execute_result"
    }
   ],
   "source": [
    "df1 = df[df['Year'] == 2020]\n",
    "df1"
   ]
  },
  {
   "cell_type": "code",
   "execution_count": 10,
   "id": "dc7dbdef",
   "metadata": {},
   "outputs": [
    {
     "data": {
      "text/html": [
       "<div>\n",
       "<style scoped>\n",
       "    .dataframe tbody tr th:only-of-type {\n",
       "        vertical-align: middle;\n",
       "    }\n",
       "\n",
       "    .dataframe tbody tr th {\n",
       "        vertical-align: top;\n",
       "    }\n",
       "\n",
       "    .dataframe thead th {\n",
       "        text-align: right;\n",
       "    }\n",
       "</style>\n",
       "<table border=\"1\" class=\"dataframe\">\n",
       "  <thead>\n",
       "    <tr style=\"text-align: right;\">\n",
       "      <th></th>\n",
       "      <th>Retailer</th>\n",
       "      <th>Retailer ID</th>\n",
       "      <th>Invoice Date</th>\n",
       "      <th>Region</th>\n",
       "      <th>State</th>\n",
       "      <th>City</th>\n",
       "      <th>Product</th>\n",
       "      <th>Price per Unit</th>\n",
       "      <th>Units Sold</th>\n",
       "      <th>Total Sales</th>\n",
       "      <th>Operating Profit</th>\n",
       "      <th>Operating Margin</th>\n",
       "      <th>Sales Method</th>\n",
       "      <th>Month</th>\n",
       "      <th>Year</th>\n",
       "    </tr>\n",
       "  </thead>\n",
       "  <tbody>\n",
       "    <tr>\n",
       "      <th>166</th>\n",
       "      <td>West Gear</td>\n",
       "      <td>1128299</td>\n",
       "      <td>2021-01-01</td>\n",
       "      <td>West</td>\n",
       "      <td>California</td>\n",
       "      <td>San Francisco</td>\n",
       "      <td>Men's Athletic Footwear</td>\n",
       "      <td>65.0</td>\n",
       "      <td>750</td>\n",
       "      <td>487500.0</td>\n",
       "      <td>121875.00</td>\n",
       "      <td>0.25</td>\n",
       "      <td>Outlet</td>\n",
       "      <td>1</td>\n",
       "      <td>2021</td>\n",
       "    </tr>\n",
       "    <tr>\n",
       "      <th>167</th>\n",
       "      <td>West Gear</td>\n",
       "      <td>1128299</td>\n",
       "      <td>2021-01-02</td>\n",
       "      <td>West</td>\n",
       "      <td>California</td>\n",
       "      <td>San Francisco</td>\n",
       "      <td>Women's Street Footwear</td>\n",
       "      <td>65.0</td>\n",
       "      <td>750</td>\n",
       "      <td>487500.0</td>\n",
       "      <td>195000.00</td>\n",
       "      <td>0.40</td>\n",
       "      <td>Outlet</td>\n",
       "      <td>1</td>\n",
       "      <td>2021</td>\n",
       "    </tr>\n",
       "    <tr>\n",
       "      <th>168</th>\n",
       "      <td>West Gear</td>\n",
       "      <td>1128299</td>\n",
       "      <td>2021-01-03</td>\n",
       "      <td>West</td>\n",
       "      <td>California</td>\n",
       "      <td>San Francisco</td>\n",
       "      <td>Women's Athletic Footwear</td>\n",
       "      <td>60.0</td>\n",
       "      <td>650</td>\n",
       "      <td>390000.0</td>\n",
       "      <td>136500.00</td>\n",
       "      <td>0.35</td>\n",
       "      <td>Outlet</td>\n",
       "      <td>1</td>\n",
       "      <td>2021</td>\n",
       "    </tr>\n",
       "    <tr>\n",
       "      <th>169</th>\n",
       "      <td>West Gear</td>\n",
       "      <td>1128299</td>\n",
       "      <td>2021-01-04</td>\n",
       "      <td>West</td>\n",
       "      <td>California</td>\n",
       "      <td>San Francisco</td>\n",
       "      <td>Men's Apparel</td>\n",
       "      <td>65.0</td>\n",
       "      <td>550</td>\n",
       "      <td>357500.0</td>\n",
       "      <td>196625.00</td>\n",
       "      <td>0.55</td>\n",
       "      <td>Outlet</td>\n",
       "      <td>1</td>\n",
       "      <td>2021</td>\n",
       "    </tr>\n",
       "    <tr>\n",
       "      <th>170</th>\n",
       "      <td>West Gear</td>\n",
       "      <td>1128299</td>\n",
       "      <td>2021-01-05</td>\n",
       "      <td>West</td>\n",
       "      <td>California</td>\n",
       "      <td>San Francisco</td>\n",
       "      <td>Women's Apparel</td>\n",
       "      <td>80.0</td>\n",
       "      <td>725</td>\n",
       "      <td>580000.0</td>\n",
       "      <td>116000.00</td>\n",
       "      <td>0.20</td>\n",
       "      <td>Outlet</td>\n",
       "      <td>1</td>\n",
       "      <td>2021</td>\n",
       "    </tr>\n",
       "    <tr>\n",
       "      <th>...</th>\n",
       "      <td>...</td>\n",
       "      <td>...</td>\n",
       "      <td>...</td>\n",
       "      <td>...</td>\n",
       "      <td>...</td>\n",
       "      <td>...</td>\n",
       "      <td>...</td>\n",
       "      <td>...</td>\n",
       "      <td>...</td>\n",
       "      <td>...</td>\n",
       "      <td>...</td>\n",
       "      <td>...</td>\n",
       "      <td>...</td>\n",
       "      <td>...</td>\n",
       "      <td>...</td>\n",
       "    </tr>\n",
       "    <tr>\n",
       "      <th>9644</th>\n",
       "      <td>Foot Locker</td>\n",
       "      <td>1185732</td>\n",
       "      <td>2021-01-24</td>\n",
       "      <td>Northeast</td>\n",
       "      <td>New Hampshire</td>\n",
       "      <td>Manchester</td>\n",
       "      <td>Men's Apparel</td>\n",
       "      <td>50.0</td>\n",
       "      <td>64</td>\n",
       "      <td>3200.0</td>\n",
       "      <td>896.00</td>\n",
       "      <td>0.28</td>\n",
       "      <td>Outlet</td>\n",
       "      <td>1</td>\n",
       "      <td>2021</td>\n",
       "    </tr>\n",
       "    <tr>\n",
       "      <th>9645</th>\n",
       "      <td>Foot Locker</td>\n",
       "      <td>1185732</td>\n",
       "      <td>2021-01-24</td>\n",
       "      <td>Northeast</td>\n",
       "      <td>New Hampshire</td>\n",
       "      <td>Manchester</td>\n",
       "      <td>Women's Apparel</td>\n",
       "      <td>41.0</td>\n",
       "      <td>105</td>\n",
       "      <td>4305.0</td>\n",
       "      <td>1377.60</td>\n",
       "      <td>0.32</td>\n",
       "      <td>Outlet</td>\n",
       "      <td>1</td>\n",
       "      <td>2021</td>\n",
       "    </tr>\n",
       "    <tr>\n",
       "      <th>9646</th>\n",
       "      <td>Foot Locker</td>\n",
       "      <td>1185732</td>\n",
       "      <td>2021-02-22</td>\n",
       "      <td>Northeast</td>\n",
       "      <td>New Hampshire</td>\n",
       "      <td>Manchester</td>\n",
       "      <td>Men's Street Footwear</td>\n",
       "      <td>41.0</td>\n",
       "      <td>184</td>\n",
       "      <td>7544.0</td>\n",
       "      <td>2791.28</td>\n",
       "      <td>0.37</td>\n",
       "      <td>Outlet</td>\n",
       "      <td>2</td>\n",
       "      <td>2021</td>\n",
       "    </tr>\n",
       "    <tr>\n",
       "      <th>9647</th>\n",
       "      <td>Foot Locker</td>\n",
       "      <td>1185732</td>\n",
       "      <td>2021-02-22</td>\n",
       "      <td>Northeast</td>\n",
       "      <td>New Hampshire</td>\n",
       "      <td>Manchester</td>\n",
       "      <td>Men's Athletic Footwear</td>\n",
       "      <td>42.0</td>\n",
       "      <td>70</td>\n",
       "      <td>2940.0</td>\n",
       "      <td>1234.80</td>\n",
       "      <td>0.42</td>\n",
       "      <td>Outlet</td>\n",
       "      <td>2</td>\n",
       "      <td>2021</td>\n",
       "    </tr>\n",
       "    <tr>\n",
       "      <th>9648</th>\n",
       "      <td>Foot Locker</td>\n",
       "      <td>1185732</td>\n",
       "      <td>2021-02-22</td>\n",
       "      <td>Northeast</td>\n",
       "      <td>New Hampshire</td>\n",
       "      <td>Manchester</td>\n",
       "      <td>Women's Street Footwear</td>\n",
       "      <td>29.0</td>\n",
       "      <td>83</td>\n",
       "      <td>2407.0</td>\n",
       "      <td>649.89</td>\n",
       "      <td>0.27</td>\n",
       "      <td>Outlet</td>\n",
       "      <td>2</td>\n",
       "      <td>2021</td>\n",
       "    </tr>\n",
       "  </tbody>\n",
       "</table>\n",
       "<p>8346 rows × 15 columns</p>\n",
       "</div>"
      ],
      "text/plain": [
       "         Retailer  Retailer ID Invoice Date     Region          State  \\\n",
       "166     West Gear      1128299   2021-01-01       West     California   \n",
       "167     West Gear      1128299   2021-01-02       West     California   \n",
       "168     West Gear      1128299   2021-01-03       West     California   \n",
       "169     West Gear      1128299   2021-01-04       West     California   \n",
       "170     West Gear      1128299   2021-01-05       West     California   \n",
       "...           ...          ...          ...        ...            ...   \n",
       "9644  Foot Locker      1185732   2021-01-24  Northeast  New Hampshire   \n",
       "9645  Foot Locker      1185732   2021-01-24  Northeast  New Hampshire   \n",
       "9646  Foot Locker      1185732   2021-02-22  Northeast  New Hampshire   \n",
       "9647  Foot Locker      1185732   2021-02-22  Northeast  New Hampshire   \n",
       "9648  Foot Locker      1185732   2021-02-22  Northeast  New Hampshire   \n",
       "\n",
       "               City                    Product  Price per Unit  Units Sold  \\\n",
       "166   San Francisco    Men's Athletic Footwear            65.0         750   \n",
       "167   San Francisco    Women's Street Footwear            65.0         750   \n",
       "168   San Francisco  Women's Athletic Footwear            60.0         650   \n",
       "169   San Francisco              Men's Apparel            65.0         550   \n",
       "170   San Francisco            Women's Apparel            80.0         725   \n",
       "...             ...                        ...             ...         ...   \n",
       "9644     Manchester              Men's Apparel            50.0          64   \n",
       "9645     Manchester            Women's Apparel            41.0         105   \n",
       "9646     Manchester      Men's Street Footwear            41.0         184   \n",
       "9647     Manchester    Men's Athletic Footwear            42.0          70   \n",
       "9648     Manchester    Women's Street Footwear            29.0          83   \n",
       "\n",
       "      Total Sales  Operating Profit  Operating Margin Sales Method  Month  \\\n",
       "166      487500.0         121875.00              0.25       Outlet      1   \n",
       "167      487500.0         195000.00              0.40       Outlet      1   \n",
       "168      390000.0         136500.00              0.35       Outlet      1   \n",
       "169      357500.0         196625.00              0.55       Outlet      1   \n",
       "170      580000.0         116000.00              0.20       Outlet      1   \n",
       "...           ...               ...               ...          ...    ...   \n",
       "9644       3200.0            896.00              0.28       Outlet      1   \n",
       "9645       4305.0           1377.60              0.32       Outlet      1   \n",
       "9646       7544.0           2791.28              0.37       Outlet      2   \n",
       "9647       2940.0           1234.80              0.42       Outlet      2   \n",
       "9648       2407.0            649.89              0.27       Outlet      2   \n",
       "\n",
       "      Year  \n",
       "166   2021  \n",
       "167   2021  \n",
       "168   2021  \n",
       "169   2021  \n",
       "170   2021  \n",
       "...    ...  \n",
       "9644  2021  \n",
       "9645  2021  \n",
       "9646  2021  \n",
       "9647  2021  \n",
       "9648  2021  \n",
       "\n",
       "[8346 rows x 15 columns]"
      ]
     },
     "execution_count": 10,
     "metadata": {},
     "output_type": "execute_result"
    }
   ],
   "source": [
    "df2 = df[df['Year'] == 2021]\n",
    "df2\n"
   ]
  },
  {
   "cell_type": "markdown",
   "id": "237d41d1",
   "metadata": {},
   "source": [
    "# Which Year has more sales?"
   ]
  },
  {
   "cell_type": "code",
   "execution_count": 11,
   "id": "c1f15c5d",
   "metadata": {},
   "outputs": [
    {
     "data": {
      "text/html": [
       "<div>\n",
       "<style scoped>\n",
       "    .dataframe tbody tr th:only-of-type {\n",
       "        vertical-align: middle;\n",
       "    }\n",
       "\n",
       "    .dataframe tbody tr th {\n",
       "        vertical-align: top;\n",
       "    }\n",
       "\n",
       "    .dataframe thead th {\n",
       "        text-align: right;\n",
       "    }\n",
       "</style>\n",
       "<table border=\"1\" class=\"dataframe\">\n",
       "  <thead>\n",
       "    <tr style=\"text-align: right;\">\n",
       "      <th></th>\n",
       "      <th>Total Sales</th>\n",
       "    </tr>\n",
       "    <tr>\n",
       "      <th>Year</th>\n",
       "      <th></th>\n",
       "    </tr>\n",
       "  </thead>\n",
       "  <tbody>\n",
       "    <tr>\n",
       "      <th>2020</th>\n",
       "      <td>182080675.0</td>\n",
       "    </tr>\n",
       "    <tr>\n",
       "      <th>2021</th>\n",
       "      <td>717821450.0</td>\n",
       "    </tr>\n",
       "  </tbody>\n",
       "</table>\n",
       "</div>"
      ],
      "text/plain": [
       "      Total Sales\n",
       "Year             \n",
       "2020  182080675.0\n",
       "2021  717821450.0"
      ]
     },
     "execution_count": 11,
     "metadata": {},
     "output_type": "execute_result"
    }
   ],
   "source": [
    "a = df.groupby('Year')[\"Total Sales\"].sum()\n",
    "a = pd.DataFrame(a)\n",
    "a"
   ]
  },
  {
   "cell_type": "markdown",
   "id": "f25afa59",
   "metadata": {},
   "source": [
    "From the above data, it is clear that Adidas' sales in 2021 almost 4 times as compared to that of 2020. One of the reason behind it can be lockdowns during COVID 19 pandemic thus making it difficult for customers to physically visit the store."
   ]
  },
  {
   "cell_type": "markdown",
   "id": "b794fec0",
   "metadata": {},
   "source": [
    "# Comparison of Monthly Sales in both the years"
   ]
  },
  {
   "cell_type": "code",
   "execution_count": 12,
   "id": "a43ba709",
   "metadata": {},
   "outputs": [
    {
     "data": {
      "text/html": [
       "<div>\n",
       "<style scoped>\n",
       "    .dataframe tbody tr th:only-of-type {\n",
       "        vertical-align: middle;\n",
       "    }\n",
       "\n",
       "    .dataframe tbody tr th {\n",
       "        vertical-align: top;\n",
       "    }\n",
       "\n",
       "    .dataframe thead th {\n",
       "        text-align: right;\n",
       "    }\n",
       "</style>\n",
       "<table border=\"1\" class=\"dataframe\">\n",
       "  <thead>\n",
       "    <tr style=\"text-align: right;\">\n",
       "      <th></th>\n",
       "      <th>Total Sales_x</th>\n",
       "      <th>Total Sales_y</th>\n",
       "    </tr>\n",
       "    <tr>\n",
       "      <th>Month</th>\n",
       "      <th></th>\n",
       "      <th></th>\n",
       "    </tr>\n",
       "  </thead>\n",
       "  <tbody>\n",
       "    <tr>\n",
       "      <th>1</th>\n",
       "      <td>16253746.0</td>\n",
       "      <td>55225396.0</td>\n",
       "    </tr>\n",
       "    <tr>\n",
       "      <th>2</th>\n",
       "      <td>14997988.0</td>\n",
       "      <td>46102165.0</td>\n",
       "    </tr>\n",
       "    <tr>\n",
       "      <th>3</th>\n",
       "      <td>17660577.0</td>\n",
       "      <td>39148532.0</td>\n",
       "    </tr>\n",
       "    <tr>\n",
       "      <th>4</th>\n",
       "      <td>24607006.0</td>\n",
       "      <td>47732964.0</td>\n",
       "    </tr>\n",
       "    <tr>\n",
       "      <th>5</th>\n",
       "      <td>16918014.0</td>\n",
       "      <td>63589681.0</td>\n",
       "    </tr>\n",
       "    <tr>\n",
       "      <th>6</th>\n",
       "      <td>8829819.0</td>\n",
       "      <td>65917553.0</td>\n",
       "    </tr>\n",
       "    <tr>\n",
       "      <th>7</th>\n",
       "      <td>17146013.0</td>\n",
       "      <td>78334681.0</td>\n",
       "    </tr>\n",
       "    <tr>\n",
       "      <th>8</th>\n",
       "      <td>19877980.0</td>\n",
       "      <td>72288221.0</td>\n",
       "    </tr>\n",
       "    <tr>\n",
       "      <th>9</th>\n",
       "      <td>18304436.0</td>\n",
       "      <td>59357023.0</td>\n",
       "    </tr>\n",
       "    <tr>\n",
       "      <th>10</th>\n",
       "      <td>10836269.0</td>\n",
       "      <td>53074764.0</td>\n",
       "    </tr>\n",
       "    <tr>\n",
       "      <th>11</th>\n",
       "      <td>8622300.0</td>\n",
       "      <td>59235040.0</td>\n",
       "    </tr>\n",
       "    <tr>\n",
       "      <th>12</th>\n",
       "      <td>8026527.0</td>\n",
       "      <td>77815430.0</td>\n",
       "    </tr>\n",
       "  </tbody>\n",
       "</table>\n",
       "</div>"
      ],
      "text/plain": [
       "       Total Sales_x  Total Sales_y\n",
       "Month                              \n",
       "1         16253746.0     55225396.0\n",
       "2         14997988.0     46102165.0\n",
       "3         17660577.0     39148532.0\n",
       "4         24607006.0     47732964.0\n",
       "5         16918014.0     63589681.0\n",
       "6          8829819.0     65917553.0\n",
       "7         17146013.0     78334681.0\n",
       "8         19877980.0     72288221.0\n",
       "9         18304436.0     59357023.0\n",
       "10        10836269.0     53074764.0\n",
       "11         8622300.0     59235040.0\n",
       "12         8026527.0     77815430.0"
      ]
     },
     "execution_count": 12,
     "metadata": {},
     "output_type": "execute_result"
    }
   ],
   "source": [
    "Monthly_sales_2020 = pd.DataFrame(df1.groupby('Month')['Total Sales'].sum())\n",
    "Monthly_sales_2021 = pd.DataFrame(df2.groupby('Month')['Total Sales'].sum())\n",
    "Monthly_sales = pd.merge(Monthly_sales_2020,Monthly_sales_2021, on = 'Month')\n",
    "Monthly_sales"
   ]
  },
  {
   "cell_type": "code",
   "execution_count": 13,
   "id": "edd4598e",
   "metadata": {},
   "outputs": [],
   "source": [
    "Monthly_sales = Monthly_sales.rename(columns = {'Total Sales_x':'2020','Total Sales_y':'2021'})\n",
    "Monthly_sales = Monthly_sales.reset_index()"
   ]
  },
  {
   "cell_type": "code",
   "execution_count": 14,
   "id": "c836cf34",
   "metadata": {},
   "outputs": [
    {
     "data": {
      "text/plain": [
       "<matplotlib.legend.Legend at 0x23e90b25210>"
      ]
     },
     "execution_count": 14,
     "metadata": {},
     "output_type": "execute_result"
    },
    {
     "data": {
      "image/png": "[encoded data removed]",
      "text/plain": [
       "<Figure size 1000x500 with 1 Axes>"
      ]
     },
     "metadata": {},
     "output_type": "display_data"
    }
   ],
   "source": [
    "#PLotting the Graph\n",
    "plt.figure(figsize = (10,5))\n",
    "plt.plot(Monthly_sales.loc[:,'Month'],Monthly_sales.loc[:,'2020'],color = 'Blue',label='2020')\n",
    "plt.plot(Monthly_sales.loc[:,'Month'],Monthly_sales.loc[:,'2021'],color = 'Red',label='2021')\n",
    "plt.xlabel(\"Months\")\n",
    "plt.ylabel(\"Sales amount\")\n",
    "plt.grid(linewidth=0.5)\n",
    "plt.legend()"
   ]
  },
  {
   "cell_type": "markdown",
   "id": "82d67b69",
   "metadata": {},
   "source": [
    "From the above comparison of Adidas' monthly sales of years 2020 and 2021, we can see a trend of sales rising in July in both the years which can be due to the vacation period. Another trend can be that in 2021 we can see a sharp increase in sales when it approaches December. Reason behind it can be due to the various festivals at the end of the year. "
   ]
  },
  {
   "cell_type": "markdown",
   "id": "6a880c02",
   "metadata": {},
   "source": [
    "# Region-wise total sales"
   ]
  },
  {
   "cell_type": "code",
   "execution_count": 14,
   "id": "2e336273",
   "metadata": {},
   "outputs": [
    {
     "data": {
      "text/html": [
       "<div>\n",
       "<style scoped>\n",
       "    .dataframe tbody tr th:only-of-type {\n",
       "        vertical-align: middle;\n",
       "    }\n",
       "\n",
       "    .dataframe tbody tr th {\n",
       "        vertical-align: top;\n",
       "    }\n",
       "\n",
       "    .dataframe thead th {\n",
       "        text-align: right;\n",
       "    }\n",
       "</style>\n",
       "<table border=\"1\" class=\"dataframe\">\n",
       "  <thead>\n",
       "    <tr style=\"text-align: right;\">\n",
       "      <th></th>\n",
       "      <th>Region</th>\n",
       "      <th>Total Sales</th>\n",
       "    </tr>\n",
       "  </thead>\n",
       "  <tbody>\n",
       "    <tr>\n",
       "      <th>0</th>\n",
       "      <td>Midwest</td>\n",
       "      <td>135800459.0</td>\n",
       "    </tr>\n",
       "    <tr>\n",
       "      <th>1</th>\n",
       "      <td>Northeast</td>\n",
       "      <td>186324067.0</td>\n",
       "    </tr>\n",
       "    <tr>\n",
       "      <th>2</th>\n",
       "      <td>South</td>\n",
       "      <td>144663181.0</td>\n",
       "    </tr>\n",
       "    <tr>\n",
       "      <th>3</th>\n",
       "      <td>Southeast</td>\n",
       "      <td>163171236.0</td>\n",
       "    </tr>\n",
       "    <tr>\n",
       "      <th>4</th>\n",
       "      <td>West</td>\n",
       "      <td>269943182.0</td>\n",
       "    </tr>\n",
       "  </tbody>\n",
       "</table>\n",
       "</div>"
      ],
      "text/plain": [
       "      Region  Total Sales\n",
       "0    Midwest  135800459.0\n",
       "1  Northeast  186324067.0\n",
       "2      South  144663181.0\n",
       "3  Southeast  163171236.0\n",
       "4       West  269943182.0"
      ]
     },
     "execution_count": 14,
     "metadata": {},
     "output_type": "execute_result"
    }
   ],
   "source": [
    "Region_sales = pd.DataFrame(df.groupby('Region')['Total Sales'].sum()).reset_index()\n",
    "Region_sales"
   ]
  },
  {
   "cell_type": "code",
   "execution_count": 78,
   "id": "74693527",
   "metadata": {
    "scrolled": true
   },
   "outputs": [
    {
     "data": {
      "image/png": "[encoded data removed]",
      "text/plain": [
       "<Figure size 640x480 with 1 Axes>"
      ]
     },
     "metadata": {},
     "output_type": "display_data"
    }
   ],
   "source": [
    "c = ['red', 'yellow', 'brown', 'blue', 'orange']\n",
    "plt.bar(Region_sales['Region'],Region_sales['Total Sales'],color=c,width = 0.5)\n",
    "plt.xlabel(\"Region\")\n",
    "plt.ylabel(\"Sales Amount\")\n",
    "plt.title(\"Region v/s Total Sales\")\n",
    "plt.show()\n"
   ]
  },
  {
   "cell_type": "markdown",
   "id": "440cffde",
   "metadata": {},
   "source": [
    "It can be seen that Adidas experiences highest sales in West region with Northeast region coming in on second position but far behind West in terms of sales. The least sales can be seen in Midwest region and therefore Adidas should focus more on this region to improve its overall sales."
   ]
  },
  {
   "cell_type": "markdown",
   "id": "d32df34e",
   "metadata": {},
   "source": [
    "# Year-wise comparison of sales in every region"
   ]
  },
  {
   "cell_type": "code",
   "execution_count": 16,
   "id": "4fad943d",
   "metadata": {},
   "outputs": [
    {
     "data": {
      "text/html": [
       "<div>\n",
       "<style scoped>\n",
       "    .dataframe tbody tr th:only-of-type {\n",
       "        vertical-align: middle;\n",
       "    }\n",
       "\n",
       "    .dataframe tbody tr th {\n",
       "        vertical-align: top;\n",
       "    }\n",
       "\n",
       "    .dataframe thead th {\n",
       "        text-align: right;\n",
       "    }\n",
       "</style>\n",
       "<table border=\"1\" class=\"dataframe\">\n",
       "  <thead>\n",
       "    <tr style=\"text-align: right;\">\n",
       "      <th></th>\n",
       "      <th>Total Sales_x</th>\n",
       "      <th>Total Sales_y</th>\n",
       "    </tr>\n",
       "    <tr>\n",
       "      <th>Region</th>\n",
       "      <th></th>\n",
       "      <th></th>\n",
       "    </tr>\n",
       "  </thead>\n",
       "  <tbody>\n",
       "    <tr>\n",
       "      <th>Midwest</th>\n",
       "      <td>7378068.0</td>\n",
       "      <td>128422391.0</td>\n",
       "    </tr>\n",
       "    <tr>\n",
       "      <th>Northeast</th>\n",
       "      <td>40749709.0</td>\n",
       "      <td>145574358.0</td>\n",
       "    </tr>\n",
       "    <tr>\n",
       "      <th>South</th>\n",
       "      <td>25456882.0</td>\n",
       "      <td>119206299.0</td>\n",
       "    </tr>\n",
       "    <tr>\n",
       "      <th>Southeast</th>\n",
       "      <td>31600863.0</td>\n",
       "      <td>131570373.0</td>\n",
       "    </tr>\n",
       "    <tr>\n",
       "      <th>West</th>\n",
       "      <td>76895153.0</td>\n",
       "      <td>193048029.0</td>\n",
       "    </tr>\n",
       "  </tbody>\n",
       "</table>\n",
       "</div>"
      ],
      "text/plain": [
       "           Total Sales_x  Total Sales_y\n",
       "Region                                 \n",
       "Midwest        7378068.0    128422391.0\n",
       "Northeast     40749709.0    145574358.0\n",
       "South         25456882.0    119206299.0\n",
       "Southeast     31600863.0    131570373.0\n",
       "West          76895153.0    193048029.0"
      ]
     },
     "execution_count": 16,
     "metadata": {},
     "output_type": "execute_result"
    }
   ],
   "source": [
    "sales_2020 = df1.groupby('Region')['Total Sales'].sum()\n",
    "sales_2020 = pd.DataFrame(sales_2020)\n",
    "sales_2021 = df2.groupby('Region')['Total Sales'].sum()\n",
    "sales_2021 = pd.DataFrame(sales_2021)\n",
    "sales_comp = pd.merge(sales_2020,sales_2021, on = 'Region')\n",
    "sales_comp"
   ]
  },
  {
   "cell_type": "code",
   "execution_count": 17,
   "id": "80b80367",
   "metadata": {},
   "outputs": [
    {
     "data": {
      "text/html": [
       "<div>\n",
       "<style scoped>\n",
       "    .dataframe tbody tr th:only-of-type {\n",
       "        vertical-align: middle;\n",
       "    }\n",
       "\n",
       "    .dataframe tbody tr th {\n",
       "        vertical-align: top;\n",
       "    }\n",
       "\n",
       "    .dataframe thead th {\n",
       "        text-align: right;\n",
       "    }\n",
       "</style>\n",
       "<table border=\"1\" class=\"dataframe\">\n",
       "  <thead>\n",
       "    <tr style=\"text-align: right;\">\n",
       "      <th></th>\n",
       "      <th>Region</th>\n",
       "      <th>2020</th>\n",
       "      <th>2021</th>\n",
       "    </tr>\n",
       "  </thead>\n",
       "  <tbody>\n",
       "    <tr>\n",
       "      <th>0</th>\n",
       "      <td>Midwest</td>\n",
       "      <td>7378068.0</td>\n",
       "      <td>128422391.0</td>\n",
       "    </tr>\n",
       "    <tr>\n",
       "      <th>1</th>\n",
       "      <td>Northeast</td>\n",
       "      <td>40749709.0</td>\n",
       "      <td>145574358.0</td>\n",
       "    </tr>\n",
       "    <tr>\n",
       "      <th>2</th>\n",
       "      <td>South</td>\n",
       "      <td>25456882.0</td>\n",
       "      <td>119206299.0</td>\n",
       "    </tr>\n",
       "    <tr>\n",
       "      <th>3</th>\n",
       "      <td>Southeast</td>\n",
       "      <td>31600863.0</td>\n",
       "      <td>131570373.0</td>\n",
       "    </tr>\n",
       "    <tr>\n",
       "      <th>4</th>\n",
       "      <td>West</td>\n",
       "      <td>76895153.0</td>\n",
       "      <td>193048029.0</td>\n",
       "    </tr>\n",
       "  </tbody>\n",
       "</table>\n",
       "</div>"
      ],
      "text/plain": [
       "      Region        2020         2021\n",
       "0    Midwest   7378068.0  128422391.0\n",
       "1  Northeast  40749709.0  145574358.0\n",
       "2      South  25456882.0  119206299.0\n",
       "3  Southeast  31600863.0  131570373.0\n",
       "4       West  76895153.0  193048029.0"
      ]
     },
     "execution_count": 17,
     "metadata": {},
     "output_type": "execute_result"
    }
   ],
   "source": [
    "sales_comp = sales_comp.rename(columns = {'Total Sales_x':'2020','Total Sales_y':'2021'})\n",
    "sales_comp = sales_comp.reset_index()\n",
    "sales_comp"
   ]
  },
  {
   "cell_type": "code",
   "execution_count": 18,
   "id": "99174ac8",
   "metadata": {
    "scrolled": true
   },
   "outputs": [
    {
     "data": {
      "text/plain": [
       "<matplotlib.legend.Legend at 0x21936a8c520>"
      ]
     },
     "execution_count": 18,
     "metadata": {},
     "output_type": "execute_result"
    },
    {
     "data": {
      "image/png": "[encoded data removed]",
      "text/plain": [
       "<Figure size 1000x500 with 1 Axes>"
      ]
     },
     "metadata": {},
     "output_type": "display_data"
    }
   ],
   "source": [
    "plt.figure(figsize = (10,5))\n",
    "plt.plot(sales_comp.loc[:,'Region'],sales_comp.loc[:,'2020'],color = 'Blue',label='2020')\n",
    "plt.plot(sales_comp.loc[:,'Region'],sales_comp.loc[:,'2021'],color = 'Red',label='2021')\n",
    "plt.xlabel(\"Region\")\n",
    "plt.grid(linewidth=0.5)\n",
    "plt.legend()"
   ]
  },
  {
   "cell_type": "markdown",
   "id": "0cade036",
   "metadata": {},
   "source": [
    "As the trend we saw earlier when we analyzed the overall sales in all the regions for both the years, West region's sales are far ahead than any other region. The above graph further emphasizes that point that the West region is consistently contributing most to Adidas in every year as we can see that sales of West is higher than any other region in both the years.\n",
    "On the other hand, it can be seen that the sales in Midwest region has increased and is slightly above than South region in 2021 as compapred to 2020 when it was in the last position."
   ]
  },
  {
   "cell_type": "markdown",
   "id": "95d62b4f",
   "metadata": {},
   "source": [
    "# Which sales method is more preferred by the customers?"
   ]
  },
  {
   "cell_type": "code",
   "execution_count": 19,
   "id": "33105761",
   "metadata": {},
   "outputs": [
    {
     "data": {
      "text/html": [
       "<div>\n",
       "<style scoped>\n",
       "    .dataframe tbody tr th:only-of-type {\n",
       "        vertical-align: middle;\n",
       "    }\n",
       "\n",
       "    .dataframe tbody tr th {\n",
       "        vertical-align: top;\n",
       "    }\n",
       "\n",
       "    .dataframe thead th {\n",
       "        text-align: right;\n",
       "    }\n",
       "</style>\n",
       "<table border=\"1\" class=\"dataframe\">\n",
       "  <thead>\n",
       "    <tr style=\"text-align: right;\">\n",
       "      <th></th>\n",
       "      <th>Retailer</th>\n",
       "      <th>Retailer ID</th>\n",
       "      <th>Invoice Date</th>\n",
       "      <th>Region</th>\n",
       "      <th>State</th>\n",
       "      <th>City</th>\n",
       "      <th>Product</th>\n",
       "      <th>Price per Unit</th>\n",
       "      <th>Units Sold</th>\n",
       "      <th>Total Sales</th>\n",
       "      <th>Operating Profit</th>\n",
       "      <th>Operating Margin</th>\n",
       "      <th>Month</th>\n",
       "      <th>Year</th>\n",
       "    </tr>\n",
       "    <tr>\n",
       "      <th>Sales Method</th>\n",
       "      <th></th>\n",
       "      <th></th>\n",
       "      <th></th>\n",
       "      <th></th>\n",
       "      <th></th>\n",
       "      <th></th>\n",
       "      <th></th>\n",
       "      <th></th>\n",
       "      <th></th>\n",
       "      <th></th>\n",
       "      <th></th>\n",
       "      <th></th>\n",
       "      <th></th>\n",
       "      <th></th>\n",
       "    </tr>\n",
       "  </thead>\n",
       "  <tbody>\n",
       "    <tr>\n",
       "      <th>In-store</th>\n",
       "      <td>1740</td>\n",
       "      <td>1740</td>\n",
       "      <td>1740</td>\n",
       "      <td>1740</td>\n",
       "      <td>1740</td>\n",
       "      <td>1740</td>\n",
       "      <td>1740</td>\n",
       "      <td>1740</td>\n",
       "      <td>1740</td>\n",
       "      <td>1740</td>\n",
       "      <td>1740</td>\n",
       "      <td>1740</td>\n",
       "      <td>1740</td>\n",
       "      <td>1740</td>\n",
       "    </tr>\n",
       "    <tr>\n",
       "      <th>Online</th>\n",
       "      <td>4889</td>\n",
       "      <td>4889</td>\n",
       "      <td>4889</td>\n",
       "      <td>4889</td>\n",
       "      <td>4889</td>\n",
       "      <td>4889</td>\n",
       "      <td>4889</td>\n",
       "      <td>4889</td>\n",
       "      <td>4889</td>\n",
       "      <td>4889</td>\n",
       "      <td>4889</td>\n",
       "      <td>4889</td>\n",
       "      <td>4889</td>\n",
       "      <td>4889</td>\n",
       "    </tr>\n",
       "    <tr>\n",
       "      <th>Outlet</th>\n",
       "      <td>3019</td>\n",
       "      <td>3019</td>\n",
       "      <td>3019</td>\n",
       "      <td>3019</td>\n",
       "      <td>3019</td>\n",
       "      <td>3019</td>\n",
       "      <td>3019</td>\n",
       "      <td>3019</td>\n",
       "      <td>3019</td>\n",
       "      <td>3019</td>\n",
       "      <td>3019</td>\n",
       "      <td>3019</td>\n",
       "      <td>3019</td>\n",
       "      <td>3019</td>\n",
       "    </tr>\n",
       "  </tbody>\n",
       "</table>\n",
       "</div>"
      ],
      "text/plain": [
       "              Retailer  Retailer ID  Invoice Date  Region  State  City  \\\n",
       "Sales Method                                                             \n",
       "In-store          1740         1740          1740    1740   1740  1740   \n",
       "Online            4889         4889          4889    4889   4889  4889   \n",
       "Outlet            3019         3019          3019    3019   3019  3019   \n",
       "\n",
       "              Product  Price per Unit  Units Sold  Total Sales  \\\n",
       "Sales Method                                                     \n",
       "In-store         1740            1740        1740         1740   \n",
       "Online           4889            4889        4889         4889   \n",
       "Outlet           3019            3019        3019         3019   \n",
       "\n",
       "              Operating Profit  Operating Margin  Month  Year  \n",
       "Sales Method                                                   \n",
       "In-store                  1740              1740   1740  1740  \n",
       "Online                    4889              4889   4889  4889  \n",
       "Outlet                    3019              3019   3019  3019  "
      ]
     },
     "execution_count": 19,
     "metadata": {},
     "output_type": "execute_result"
    }
   ],
   "source": [
    "df.groupby('Sales Method').count()"
   ]
  },
  {
   "cell_type": "code",
   "execution_count": 20,
   "id": "222f92eb",
   "metadata": {},
   "outputs": [
    {
     "data": {
      "text/plain": [
       "Sales Method\n",
       "In-store    1740\n",
       "Online      4889\n",
       "Outlet      3019\n",
       "Name: Product, dtype: int64"
      ]
     },
     "execution_count": 20,
     "metadata": {},
     "output_type": "execute_result"
    }
   ],
   "source": [
    "df.groupby('Sales Method')['Product'].count()"
   ]
  },
  {
   "cell_type": "code",
   "execution_count": 21,
   "id": "a29ba1bc",
   "metadata": {},
   "outputs": [],
   "source": [
    "method_2020 = pd.DataFrame(df1.groupby('Sales Method')['Product'].count())\n",
    "method_2021 = pd.DataFrame(df2.groupby('Sales Method')['Product'].count())"
   ]
  },
  {
   "cell_type": "code",
   "execution_count": 22,
   "id": "313dff58",
   "metadata": {},
   "outputs": [
    {
     "data": {
      "text/html": [
       "<div>\n",
       "<style scoped>\n",
       "    .dataframe tbody tr th:only-of-type {\n",
       "        vertical-align: middle;\n",
       "    }\n",
       "\n",
       "    .dataframe tbody tr th {\n",
       "        vertical-align: top;\n",
       "    }\n",
       "\n",
       "    .dataframe thead th {\n",
       "        text-align: right;\n",
       "    }\n",
       "</style>\n",
       "<table border=\"1\" class=\"dataframe\">\n",
       "  <thead>\n",
       "    <tr style=\"text-align: right;\">\n",
       "      <th></th>\n",
       "      <th>Product</th>\n",
       "    </tr>\n",
       "    <tr>\n",
       "      <th>Sales Method</th>\n",
       "      <th></th>\n",
       "    </tr>\n",
       "  </thead>\n",
       "  <tbody>\n",
       "    <tr>\n",
       "      <th>In-store</th>\n",
       "      <td>287</td>\n",
       "    </tr>\n",
       "    <tr>\n",
       "      <th>Online</th>\n",
       "      <td>530</td>\n",
       "    </tr>\n",
       "    <tr>\n",
       "      <th>Outlet</th>\n",
       "      <td>485</td>\n",
       "    </tr>\n",
       "  </tbody>\n",
       "</table>\n",
       "</div>"
      ],
      "text/plain": [
       "              Product\n",
       "Sales Method         \n",
       "In-store          287\n",
       "Online            530\n",
       "Outlet            485"
      ]
     },
     "execution_count": 22,
     "metadata": {},
     "output_type": "execute_result"
    }
   ],
   "source": [
    "method_2020"
   ]
  },
  {
   "cell_type": "code",
   "execution_count": 23,
   "id": "0356b1b3",
   "metadata": {},
   "outputs": [
    {
     "data": {
      "text/html": [
       "<div>\n",
       "<style scoped>\n",
       "    .dataframe tbody tr th:only-of-type {\n",
       "        vertical-align: middle;\n",
       "    }\n",
       "\n",
       "    .dataframe tbody tr th {\n",
       "        vertical-align: top;\n",
       "    }\n",
       "\n",
       "    .dataframe thead th {\n",
       "        text-align: right;\n",
       "    }\n",
       "</style>\n",
       "<table border=\"1\" class=\"dataframe\">\n",
       "  <thead>\n",
       "    <tr style=\"text-align: right;\">\n",
       "      <th></th>\n",
       "      <th>Product</th>\n",
       "    </tr>\n",
       "    <tr>\n",
       "      <th>Sales Method</th>\n",
       "      <th></th>\n",
       "    </tr>\n",
       "  </thead>\n",
       "  <tbody>\n",
       "    <tr>\n",
       "      <th>In-store</th>\n",
       "      <td>1453</td>\n",
       "    </tr>\n",
       "    <tr>\n",
       "      <th>Online</th>\n",
       "      <td>4359</td>\n",
       "    </tr>\n",
       "    <tr>\n",
       "      <th>Outlet</th>\n",
       "      <td>2534</td>\n",
       "    </tr>\n",
       "  </tbody>\n",
       "</table>\n",
       "</div>"
      ],
      "text/plain": [
       "              Product\n",
       "Sales Method         \n",
       "In-store         1453\n",
       "Online           4359\n",
       "Outlet           2534"
      ]
     },
     "execution_count": 23,
     "metadata": {},
     "output_type": "execute_result"
    }
   ],
   "source": [
    "method_2021"
   ]
  },
  {
   "cell_type": "code",
   "execution_count": 24,
   "id": "c83cbc2c",
   "metadata": {},
   "outputs": [
    {
     "data": {
      "text/html": [
       "<div>\n",
       "<style scoped>\n",
       "    .dataframe tbody tr th:only-of-type {\n",
       "        vertical-align: middle;\n",
       "    }\n",
       "\n",
       "    .dataframe tbody tr th {\n",
       "        vertical-align: top;\n",
       "    }\n",
       "\n",
       "    .dataframe thead th {\n",
       "        text-align: right;\n",
       "    }\n",
       "</style>\n",
       "<table border=\"1\" class=\"dataframe\">\n",
       "  <thead>\n",
       "    <tr style=\"text-align: right;\">\n",
       "      <th></th>\n",
       "      <th>Product_x</th>\n",
       "      <th>Product_y</th>\n",
       "    </tr>\n",
       "    <tr>\n",
       "      <th>Sales Method</th>\n",
       "      <th></th>\n",
       "      <th></th>\n",
       "    </tr>\n",
       "  </thead>\n",
       "  <tbody>\n",
       "    <tr>\n",
       "      <th>In-store</th>\n",
       "      <td>287</td>\n",
       "      <td>1453</td>\n",
       "    </tr>\n",
       "    <tr>\n",
       "      <th>Online</th>\n",
       "      <td>530</td>\n",
       "      <td>4359</td>\n",
       "    </tr>\n",
       "    <tr>\n",
       "      <th>Outlet</th>\n",
       "      <td>485</td>\n",
       "      <td>2534</td>\n",
       "    </tr>\n",
       "  </tbody>\n",
       "</table>\n",
       "</div>"
      ],
      "text/plain": [
       "              Product_x  Product_y\n",
       "Sales Method                      \n",
       "In-store            287       1453\n",
       "Online              530       4359\n",
       "Outlet              485       2534"
      ]
     },
     "execution_count": 24,
     "metadata": {},
     "output_type": "execute_result"
    }
   ],
   "source": [
    "pref_method = pd.merge(method_2020,method_2021, on = \"Sales Method\")\n",
    "pref_method"
   ]
  },
  {
   "cell_type": "code",
   "execution_count": 25,
   "id": "b4be10ac",
   "metadata": {},
   "outputs": [],
   "source": [
    "pref_method = pref_method.rename(columns = {'Product_x':'2020','Product_y':'2021'})"
   ]
  },
  {
   "cell_type": "code",
   "execution_count": 26,
   "id": "3881010c",
   "metadata": {},
   "outputs": [
    {
     "data": {
      "text/html": [
       "<div>\n",
       "<style scoped>\n",
       "    .dataframe tbody tr th:only-of-type {\n",
       "        vertical-align: middle;\n",
       "    }\n",
       "\n",
       "    .dataframe tbody tr th {\n",
       "        vertical-align: top;\n",
       "    }\n",
       "\n",
       "    .dataframe thead th {\n",
       "        text-align: right;\n",
       "    }\n",
       "</style>\n",
       "<table border=\"1\" class=\"dataframe\">\n",
       "  <thead>\n",
       "    <tr style=\"text-align: right;\">\n",
       "      <th></th>\n",
       "      <th>2020</th>\n",
       "      <th>2021</th>\n",
       "    </tr>\n",
       "    <tr>\n",
       "      <th>Sales Method</th>\n",
       "      <th></th>\n",
       "      <th></th>\n",
       "    </tr>\n",
       "  </thead>\n",
       "  <tbody>\n",
       "    <tr>\n",
       "      <th>In-store</th>\n",
       "      <td>287</td>\n",
       "      <td>1453</td>\n",
       "    </tr>\n",
       "    <tr>\n",
       "      <th>Online</th>\n",
       "      <td>530</td>\n",
       "      <td>4359</td>\n",
       "    </tr>\n",
       "    <tr>\n",
       "      <th>Outlet</th>\n",
       "      <td>485</td>\n",
       "      <td>2534</td>\n",
       "    </tr>\n",
       "  </tbody>\n",
       "</table>\n",
       "</div>"
      ],
      "text/plain": [
       "              2020  2021\n",
       "Sales Method            \n",
       "In-store       287  1453\n",
       "Online         530  4359\n",
       "Outlet         485  2534"
      ]
     },
     "execution_count": 26,
     "metadata": {},
     "output_type": "execute_result"
    },
    {
     "data": {
      "image/png": "[encoded data removed]",
      "text/plain": [
       "<Figure size 640x480 with 1 Axes>"
      ]
     },
     "metadata": {},
     "output_type": "display_data"
    }
   ],
   "source": [
    "pref_method .plot(kind=\"bar\",color=[\"blue\",\"red\"],width=0.65)\n",
    "pref_method "
   ]
  },
  {
   "cell_type": "markdown",
   "id": "ae838c16",
   "metadata": {},
   "source": [
    "From the above analysis, we can observe that most of the customers are going for online shopping in 2021 as compared to 2020. Online shopping was most preferred in 2020 as well but the difference was not much between outlets and online shopping. But in 2021, we can see that online shopping is the new trend and therefore Adidas should continue working on increasing its online presence as this scenario will keep on continuing due to increasing digitalization in the market. "
   ]
  },
  {
   "cell_type": "markdown",
   "id": "25bd52ba",
   "metadata": {},
   "source": [
    "# Best and least performing state of each region in terms of sales : -"
   ]
  },
  {
   "cell_type": "code",
   "execution_count": 27,
   "id": "44421ab4",
   "metadata": {},
   "outputs": [
    {
     "data": {
      "text/plain": [
       "Region     State         \n",
       "Midwest    Illinois           9797488.0\n",
       "           Indiana            8836198.0\n",
       "           Iowa               7424011.0\n",
       "           Kansas             9972864.0\n",
       "           Michigan          18625433.0\n",
       "           Minnesota          7378068.0\n",
       "           Missouri           9683265.0\n",
       "           Montana           15710886.0\n",
       "           Nebraska           5929038.0\n",
       "           North Dakota       7735580.0\n",
       "           Ohio              18484583.0\n",
       "           South Dakota       8495576.0\n",
       "           Wisconsin          7727469.0\n",
       "Northeast  Connecticut       11573448.0\n",
       "           Delaware          12298412.0\n",
       "           Maine              9195978.0\n",
       "           Maryland           7758059.0\n",
       "           Massachusetts     11076810.0\n",
       "           New Hampshire     16411667.0\n",
       "           New Jersey         9934246.0\n",
       "           New York          64229039.0\n",
       "           Pennsylvania      10357519.0\n",
       "           Rhode Island       8446806.0\n",
       "           Vermont           14352923.0\n",
       "           West Virginia     10689160.0\n",
       "South      Alabama           17633424.0\n",
       "           Arkansas          12639347.0\n",
       "           Louisiana         23750781.0\n",
       "           Mississippi       15591709.0\n",
       "           Oklahoma          10620734.0\n",
       "           Tennessee         18067440.0\n",
       "           Texas             46359746.0\n",
       "Southeast  Florida           59283714.0\n",
       "           Georgia           18997466.0\n",
       "           Kentucky          10072848.0\n",
       "           North Carolina    23956531.0\n",
       "           South Carolina    29285637.0\n",
       "           Virginia          21575040.0\n",
       "West       Alaska            14753103.0\n",
       "           Arizona           15782221.0\n",
       "           California        60174133.0\n",
       "           Colorado          20996536.0\n",
       "           Hawaii            22282457.0\n",
       "           Idaho             19276878.0\n",
       "           Nevada            20858509.0\n",
       "           New Mexico        19865016.0\n",
       "           Oregon            21349674.0\n",
       "           Utah               9696420.0\n",
       "           Washington        26330718.0\n",
       "           Wyoming           18577517.0\n",
       "Name: Total Sales, dtype: float64"
      ]
     },
     "execution_count": 27,
     "metadata": {},
     "output_type": "execute_result"
    }
   ],
   "source": [
    "bw_state = df.groupby(['Region','State'])['Total Sales'].sum()\n",
    "bw_state"
   ]
  },
  {
   "cell_type": "code",
   "execution_count": 28,
   "id": "0467d791",
   "metadata": {},
   "outputs": [
    {
     "data": {
      "text/plain": [
       "State\n",
       "Michigan    18625433.0\n",
       "Name: Total Sales, dtype: float64"
      ]
     },
     "execution_count": 28,
     "metadata": {},
     "output_type": "execute_result"
    }
   ],
   "source": [
    "Best_reg_1 = bw_state['Midwest'].nlargest(1)\n",
    "Best_reg_1"
   ]
  },
  {
   "cell_type": "code",
   "execution_count": 29,
   "id": "9dd5c353",
   "metadata": {},
   "outputs": [
    {
     "data": {
      "text/plain": [
       "State\n",
       "New York    64229039.0\n",
       "Name: Total Sales, dtype: float64"
      ]
     },
     "execution_count": 29,
     "metadata": {},
     "output_type": "execute_result"
    }
   ],
   "source": [
    "Best_reg_2 = bw_state['Northeast'].nlargest(1)\n",
    "Best_reg_2"
   ]
  },
  {
   "cell_type": "code",
   "execution_count": 30,
   "id": "aa4e5599",
   "metadata": {},
   "outputs": [
    {
     "data": {
      "text/plain": [
       "State\n",
       "Texas    46359746.0\n",
       "Name: Total Sales, dtype: float64"
      ]
     },
     "execution_count": 30,
     "metadata": {},
     "output_type": "execute_result"
    }
   ],
   "source": [
    "Best_reg_3 = bw_state['South'].nlargest(1)\n",
    "Best_reg_3"
   ]
  },
  {
   "cell_type": "code",
   "execution_count": 31,
   "id": "a70b0d22",
   "metadata": {},
   "outputs": [
    {
     "data": {
      "text/plain": [
       "State\n",
       "Florida    59283714.0\n",
       "Name: Total Sales, dtype: float64"
      ]
     },
     "execution_count": 31,
     "metadata": {},
     "output_type": "execute_result"
    }
   ],
   "source": [
    "Best_reg_4 = bw_state['Southeast'].nlargest(1)\n",
    "Best_reg_4"
   ]
  },
  {
   "cell_type": "code",
   "execution_count": 32,
   "id": "fe811e0c",
   "metadata": {},
   "outputs": [
    {
     "data": {
      "text/plain": [
       "State\n",
       "California    60174133.0\n",
       "Name: Total Sales, dtype: float64"
      ]
     },
     "execution_count": 32,
     "metadata": {},
     "output_type": "execute_result"
    }
   ],
   "source": [
    "Best_reg_5 = bw_state['West'].nlargest(1)\n",
    "Best_reg_5"
   ]
  },
  {
   "cell_type": "code",
   "execution_count": 33,
   "id": "56fb16c4",
   "metadata": {},
   "outputs": [
    {
     "data": {
      "text/plain": [
       "State\n",
       "Nebraska    5929038.0\n",
       "Name: Total Sales, dtype: float64"
      ]
     },
     "execution_count": 33,
     "metadata": {},
     "output_type": "execute_result"
    }
   ],
   "source": [
    "Worst_reg_1 = bw_state['Midwest'].nsmallest(1)\n",
    "Worst_reg_1"
   ]
  },
  {
   "cell_type": "code",
   "execution_count": 34,
   "id": "f37c7223",
   "metadata": {},
   "outputs": [
    {
     "data": {
      "text/plain": [
       "State\n",
       "Maryland    7758059.0\n",
       "Name: Total Sales, dtype: float64"
      ]
     },
     "execution_count": 34,
     "metadata": {},
     "output_type": "execute_result"
    }
   ],
   "source": [
    "Worst_reg_2 = bw_state['Northeast'].nsmallest(1)\n",
    "Worst_reg_2"
   ]
  },
  {
   "cell_type": "code",
   "execution_count": 35,
   "id": "b0b7703a",
   "metadata": {},
   "outputs": [
    {
     "data": {
      "text/plain": [
       "State\n",
       "Oklahoma    10620734.0\n",
       "Name: Total Sales, dtype: float64"
      ]
     },
     "execution_count": 35,
     "metadata": {},
     "output_type": "execute_result"
    }
   ],
   "source": [
    "Worst_reg_3 = bw_state['South'].nsmallest(1)\n",
    "Worst_reg_3"
   ]
  },
  {
   "cell_type": "code",
   "execution_count": 36,
   "id": "61796c31",
   "metadata": {},
   "outputs": [
    {
     "data": {
      "text/plain": [
       "State\n",
       "Kentucky    10072848.0\n",
       "Name: Total Sales, dtype: float64"
      ]
     },
     "execution_count": 36,
     "metadata": {},
     "output_type": "execute_result"
    }
   ],
   "source": [
    "Worst_reg_4 = bw_state['Southeast'].nsmallest(1)\n",
    "Worst_reg_4"
   ]
  },
  {
   "cell_type": "code",
   "execution_count": 37,
   "id": "4f44fa4b",
   "metadata": {},
   "outputs": [
    {
     "data": {
      "text/plain": [
       "State\n",
       "Utah    9696420.0\n",
       "Name: Total Sales, dtype: float64"
      ]
     },
     "execution_count": 37,
     "metadata": {},
     "output_type": "execute_result"
    }
   ],
   "source": [
    "Worst_reg_5 = bw_state['West'].nsmallest(1)\n",
    "Worst_reg_5"
   ]
  },
  {
   "cell_type": "code",
   "execution_count": 38,
   "id": "e9d5e772",
   "metadata": {},
   "outputs": [],
   "source": [
    "BW_reg1 = pd.DataFrame({'Region':['Midwest','Northeast','South','Southeast','West'],\n",
    "                     'Best Performing States(BPS)':['Michigan','New York','Texas','Florida','California'],\n",
    "                    'Sales':[18625433,64229039,46359746,59283714,60174133]})\n",
    "BW_reg2 = pd.DataFrame({'Region':['Midwest','Northeast','South','Southeast','West'],\n",
    "                     'Worst Performing States(WPS)':['Nebraska','Maryland','Oklahoma','Kentucky','Utah'],\n",
    "                    'Sales':[ 5929038,7758059,10620734,10072848,9696420]})"
   ]
  },
  {
   "cell_type": "code",
   "execution_count": 39,
   "id": "52904a23",
   "metadata": {
    "scrolled": true
   },
   "outputs": [
    {
     "data": {
      "text/html": [
       "<div>\n",
       "<style scoped>\n",
       "    .dataframe tbody tr th:only-of-type {\n",
       "        vertical-align: middle;\n",
       "    }\n",
       "\n",
       "    .dataframe tbody tr th {\n",
       "        vertical-align: top;\n",
       "    }\n",
       "\n",
       "    .dataframe thead th {\n",
       "        text-align: right;\n",
       "    }\n",
       "</style>\n",
       "<table border=\"1\" class=\"dataframe\">\n",
       "  <thead>\n",
       "    <tr style=\"text-align: right;\">\n",
       "      <th></th>\n",
       "      <th>Region</th>\n",
       "      <th>Best Performing States(BPS)</th>\n",
       "      <th>Sales(BPS)</th>\n",
       "      <th>Worst Performing States(WPS)</th>\n",
       "      <th>Sales(WPS)</th>\n",
       "    </tr>\n",
       "  </thead>\n",
       "  <tbody>\n",
       "    <tr>\n",
       "      <th>0</th>\n",
       "      <td>Midwest</td>\n",
       "      <td>Michigan</td>\n",
       "      <td>18625433</td>\n",
       "      <td>Nebraska</td>\n",
       "      <td>5929038</td>\n",
       "    </tr>\n",
       "    <tr>\n",
       "      <th>1</th>\n",
       "      <td>Northeast</td>\n",
       "      <td>New York</td>\n",
       "      <td>64229039</td>\n",
       "      <td>Maryland</td>\n",
       "      <td>7758059</td>\n",
       "    </tr>\n",
       "    <tr>\n",
       "      <th>2</th>\n",
       "      <td>South</td>\n",
       "      <td>Texas</td>\n",
       "      <td>46359746</td>\n",
       "      <td>Oklahoma</td>\n",
       "      <td>10620734</td>\n",
       "    </tr>\n",
       "    <tr>\n",
       "      <th>3</th>\n",
       "      <td>Southeast</td>\n",
       "      <td>Florida</td>\n",
       "      <td>59283714</td>\n",
       "      <td>Kentucky</td>\n",
       "      <td>10072848</td>\n",
       "    </tr>\n",
       "    <tr>\n",
       "      <th>4</th>\n",
       "      <td>West</td>\n",
       "      <td>California</td>\n",
       "      <td>60174133</td>\n",
       "      <td>Utah</td>\n",
       "      <td>9696420</td>\n",
       "    </tr>\n",
       "  </tbody>\n",
       "</table>\n",
       "</div>"
      ],
      "text/plain": [
       "      Region Best Performing States(BPS)  Sales(BPS)  \\\n",
       "0    Midwest                    Michigan    18625433   \n",
       "1  Northeast                    New York    64229039   \n",
       "2      South                       Texas    46359746   \n",
       "3  Southeast                     Florida    59283714   \n",
       "4       West                  California    60174133   \n",
       "\n",
       "  Worst Performing States(WPS)  Sales(WPS)  \n",
       "0                     Nebraska     5929038  \n",
       "1                     Maryland     7758059  \n",
       "2                     Oklahoma    10620734  \n",
       "3                     Kentucky    10072848  \n",
       "4                         Utah     9696420  "
      ]
     },
     "execution_count": 39,
     "metadata": {},
     "output_type": "execute_result"
    }
   ],
   "source": [
    "BW_reg_state = pd.merge(BW_reg1,BW_reg2, on = \"Region\")\n",
    "BW_reg_state = BW_reg_state.rename(columns = {\"Sales_x\":\"Sales(BPS)\",\"Sales_y\":\"Sales(WPS)\"} )\n",
    "BW_reg_state"
   ]
  },
  {
   "cell_type": "markdown",
   "id": "de14b6ee",
   "metadata": {},
   "source": [
    "Above dataframe gives us a clear picture of best and worst performing state in each region which can help Adidas by helping them knowing that which states require more attention and in which states the company is already performing well thus resulting in better allocation of resources."
   ]
  },
  {
   "cell_type": "markdown",
   "id": "2ad31e09",
   "metadata": {},
   "source": [
    "# Best retailer  : -"
   ]
  },
  {
   "cell_type": "code",
   "execution_count": 40,
   "id": "2e4e87e6",
   "metadata": {},
   "outputs": [
    {
     "data": {
      "text/plain": [
       "Retailer\n",
       "Amazon            77698912.0\n",
       "Foot Locker      220094720.0\n",
       "Kohl's           102114753.0\n",
       "Sports Direct    182470997.0\n",
       "Walmart           74558410.0\n",
       "West Gear        242964333.0\n",
       "Name: Total Sales, dtype: float64"
      ]
     },
     "execution_count": 40,
     "metadata": {},
     "output_type": "execute_result"
    }
   ],
   "source": [
    "best_retailer_overall = df.groupby('Retailer')['Total Sales'].sum()\n",
    "best_retailer_overall"
   ]
  },
  {
   "cell_type": "code",
   "execution_count": 82,
   "id": "d9e1006e",
   "metadata": {},
   "outputs": [
    {
     "data": {
      "image/png": "[encoded data removed]",
      "text/plain": [
       "<Figure size 640x480 with 1 Axes>"
      ]
     },
     "metadata": {},
     "output_type": "display_data"
    }
   ],
   "source": [
    "d = ['red', 'yellow', 'silver', 'green', 'blue','pink']\n",
    "plt.bar(best_retailer_overall.index,best_retailer_overall.values,color= d ,width = 0.5)\n",
    "plt.xlabel(\"Retailers\")\n",
    "plt.ylabel(\"Total Sales\")\n",
    "plt.title(\"Sales by each retailer\")\n",
    "plt.xticks(rotation = 20)\n",
    "plt.show()"
   ]
  },
  {
   "cell_type": "markdown",
   "id": "576aa7fd",
   "metadata": {},
   "source": [
    "From the above bar graph, Retailer with the most sales in the past 2 years is West Gear while Amazon and Walmart are not performing well in the market which can be seen in the graph as they both occupy the lower positions as compared to their competitors."
   ]
  },
  {
   "cell_type": "markdown",
   "id": "2052baaf",
   "metadata": {},
   "source": [
    "# Best and worst performing retailer in each region : -"
   ]
  },
  {
   "cell_type": "code",
   "execution_count": 42,
   "id": "1e0c23e7",
   "metadata": {},
   "outputs": [
    {
     "data": {
      "text/plain": [
       "Region     Retailer     \n",
       "Midwest    Amazon            16835873.0\n",
       "           Foot Locker       47987394.0\n",
       "           Kohl's            22229415.0\n",
       "           Sports Direct     26207191.0\n",
       "           West Gear         22540586.0\n",
       "Northeast  Amazon            36262590.0\n",
       "           Foot Locker       65326474.0\n",
       "           Kohl's            14031168.0\n",
       "           Sports Direct     24698097.0\n",
       "           Walmart           13712005.0\n",
       "           West Gear         32293733.0\n",
       "South      Amazon              409091.0\n",
       "           Foot Locker        9307025.0\n",
       "           Kohl's             3552055.0\n",
       "           Sports Direct     65258121.0\n",
       "           Walmart           33049858.0\n",
       "           West Gear         33087031.0\n",
       "Southeast  Amazon            10826333.0\n",
       "           Foot Locker       59669118.0\n",
       "           Sports Direct     54178543.0\n",
       "           Walmart           21005539.0\n",
       "           West Gear         17491703.0\n",
       "West       Amazon            13365025.0\n",
       "           Foot Locker       37804709.0\n",
       "           Kohl's            62302115.0\n",
       "           Sports Direct     12129045.0\n",
       "           Walmart            6791008.0\n",
       "           West Gear        137551280.0\n",
       "Name: Total Sales, dtype: float64"
      ]
     },
     "execution_count": 42,
     "metadata": {},
     "output_type": "execute_result"
    }
   ],
   "source": [
    "best_ret_reg = df.groupby(['Region','Retailer'])['Total Sales'].sum()\n",
    "best_ret_reg"
   ]
  },
  {
   "cell_type": "code",
   "execution_count": 43,
   "id": "b38d0b05",
   "metadata": {},
   "outputs": [
    {
     "data": {
      "text/plain": [
       "Retailer\n",
       "Foot Locker    47987394.0\n",
       "Name: Total Sales, dtype: float64"
      ]
     },
     "execution_count": 43,
     "metadata": {},
     "output_type": "execute_result"
    }
   ],
   "source": [
    "Best_ret_1 = best_ret_reg['Midwest'].nlargest(1)\n",
    "Best_ret_1"
   ]
  },
  {
   "cell_type": "code",
   "execution_count": 44,
   "id": "99802be2",
   "metadata": {},
   "outputs": [
    {
     "data": {
      "text/plain": [
       "Retailer\n",
       "Foot Locker    65326474.0\n",
       "Name: Total Sales, dtype: float64"
      ]
     },
     "execution_count": 44,
     "metadata": {},
     "output_type": "execute_result"
    }
   ],
   "source": [
    "Best_ret_2 = best_ret_reg['Northeast'].nlargest(1)\n",
    "Best_ret_2"
   ]
  },
  {
   "cell_type": "code",
   "execution_count": 45,
   "id": "e2362399",
   "metadata": {},
   "outputs": [
    {
     "data": {
      "text/plain": [
       "Retailer\n",
       "Sports Direct    65258121.0\n",
       "Name: Total Sales, dtype: float64"
      ]
     },
     "execution_count": 45,
     "metadata": {},
     "output_type": "execute_result"
    }
   ],
   "source": [
    "Best_ret_3 = best_ret_reg['South'].nlargest(1)\n",
    "Best_ret_3"
   ]
  },
  {
   "cell_type": "code",
   "execution_count": 46,
   "id": "521aac3a",
   "metadata": {},
   "outputs": [
    {
     "data": {
      "text/plain": [
       "Retailer\n",
       "Foot Locker    59669118.0\n",
       "Name: Total Sales, dtype: float64"
      ]
     },
     "execution_count": 46,
     "metadata": {},
     "output_type": "execute_result"
    }
   ],
   "source": [
    "Best_ret_4 = best_ret_reg['Southeast'].nlargest(1)\n",
    "Best_ret_4"
   ]
  },
  {
   "cell_type": "code",
   "execution_count": 47,
   "id": "c2d715ea",
   "metadata": {},
   "outputs": [
    {
     "data": {
      "text/plain": [
       "Retailer\n",
       "West Gear    137551280.0\n",
       "Name: Total Sales, dtype: float64"
      ]
     },
     "execution_count": 47,
     "metadata": {},
     "output_type": "execute_result"
    }
   ],
   "source": [
    "Best_ret_5 = best_ret_reg['West'].nlargest(1)\n",
    "Best_ret_5"
   ]
  },
  {
   "cell_type": "code",
   "execution_count": 48,
   "id": "f0742e57",
   "metadata": {},
   "outputs": [
    {
     "data": {
      "text/plain": [
       "Retailer\n",
       "Amazon    16835873.0\n",
       "Name: Total Sales, dtype: float64"
      ]
     },
     "execution_count": 48,
     "metadata": {},
     "output_type": "execute_result"
    }
   ],
   "source": [
    "Worst_ret_1 = best_ret_reg['Midwest'].nsmallest(1)\n",
    "Worst_ret_1"
   ]
  },
  {
   "cell_type": "code",
   "execution_count": 49,
   "id": "2acb5d50",
   "metadata": {},
   "outputs": [
    {
     "data": {
      "text/plain": [
       "Retailer\n",
       "Walmart    13712005.0\n",
       "Name: Total Sales, dtype: float64"
      ]
     },
     "execution_count": 49,
     "metadata": {},
     "output_type": "execute_result"
    }
   ],
   "source": [
    "Worst_ret_2 = best_ret_reg['Northeast'].nsmallest(1)\n",
    "Worst_ret_2"
   ]
  },
  {
   "cell_type": "code",
   "execution_count": 50,
   "id": "336856ed",
   "metadata": {},
   "outputs": [
    {
     "data": {
      "text/plain": [
       "Retailer\n",
       "Amazon    409091.0\n",
       "Name: Total Sales, dtype: float64"
      ]
     },
     "execution_count": 50,
     "metadata": {},
     "output_type": "execute_result"
    }
   ],
   "source": [
    "Worst_ret_3 = best_ret_reg['South'].nsmallest(1)\n",
    "Worst_ret_3"
   ]
  },
  {
   "cell_type": "code",
   "execution_count": 51,
   "id": "baa7c1f1",
   "metadata": {},
   "outputs": [
    {
     "data": {
      "text/plain": [
       "Retailer\n",
       "Amazon    10826333.0\n",
       "Name: Total Sales, dtype: float64"
      ]
     },
     "execution_count": 51,
     "metadata": {},
     "output_type": "execute_result"
    }
   ],
   "source": [
    "Worst_ret_4 = best_ret_reg['Southeast'].nsmallest(1)\n",
    "Worst_ret_4"
   ]
  },
  {
   "cell_type": "code",
   "execution_count": 52,
   "id": "00ee619c",
   "metadata": {},
   "outputs": [
    {
     "data": {
      "text/plain": [
       "Retailer\n",
       "Walmart    6791008.0\n",
       "Name: Total Sales, dtype: float64"
      ]
     },
     "execution_count": 52,
     "metadata": {},
     "output_type": "execute_result"
    }
   ],
   "source": [
    "Worst_ret_5 = best_ret_reg['West'].nsmallest(1)\n",
    "Worst_ret_5"
   ]
  },
  {
   "cell_type": "code",
   "execution_count": 53,
   "id": "cf50d4ed",
   "metadata": {},
   "outputs": [],
   "source": [
    "best_ret_reg1 = pd.DataFrame({'Region':['Midwest','Northeast','South','Southeast','West'],\n",
    "                     'Best Performing Retailers(BPR)':['Foot Locker','Foot Locker','Sports Direct','Foot Locker','West Gear'],\n",
    "                    'Sales': [47987394,65326474,65258121,59669118,137551280]})"
   ]
  },
  {
   "cell_type": "code",
   "execution_count": 54,
   "id": "e1da2606",
   "metadata": {},
   "outputs": [],
   "source": [
    "best_ret_reg2 = pd.DataFrame({'Region':['Midwest','Northeast','South','Southeast','West'],\n",
    "                     'Worst Performing Retailers(WPR)':['Amazon','Walmart','Amazon','Amazon','Walmart'],\n",
    "                    'Sales': [16835873,13712005,409091,10826333,6791008]})"
   ]
  },
  {
   "cell_type": "code",
   "execution_count": 55,
   "id": "f9c79b70",
   "metadata": {
    "scrolled": true
   },
   "outputs": [
    {
     "data": {
      "text/html": [
       "<div>\n",
       "<style scoped>\n",
       "    .dataframe tbody tr th:only-of-type {\n",
       "        vertical-align: middle;\n",
       "    }\n",
       "\n",
       "    .dataframe tbody tr th {\n",
       "        vertical-align: top;\n",
       "    }\n",
       "\n",
       "    .dataframe thead th {\n",
       "        text-align: right;\n",
       "    }\n",
       "</style>\n",
       "<table border=\"1\" class=\"dataframe\">\n",
       "  <thead>\n",
       "    <tr style=\"text-align: right;\">\n",
       "      <th></th>\n",
       "      <th>Region</th>\n",
       "      <th>Best Performing Retailers(BPR)</th>\n",
       "      <th>Sales BPR</th>\n",
       "      <th>Worst Performing Retailers(WPR)</th>\n",
       "      <th>Sales WPR</th>\n",
       "    </tr>\n",
       "  </thead>\n",
       "  <tbody>\n",
       "    <tr>\n",
       "      <th>0</th>\n",
       "      <td>Midwest</td>\n",
       "      <td>Foot Locker</td>\n",
       "      <td>47987394</td>\n",
       "      <td>Amazon</td>\n",
       "      <td>16835873</td>\n",
       "    </tr>\n",
       "    <tr>\n",
       "      <th>1</th>\n",
       "      <td>Northeast</td>\n",
       "      <td>Foot Locker</td>\n",
       "      <td>65326474</td>\n",
       "      <td>Walmart</td>\n",
       "      <td>13712005</td>\n",
       "    </tr>\n",
       "    <tr>\n",
       "      <th>2</th>\n",
       "      <td>South</td>\n",
       "      <td>Sports Direct</td>\n",
       "      <td>65258121</td>\n",
       "      <td>Amazon</td>\n",
       "      <td>409091</td>\n",
       "    </tr>\n",
       "    <tr>\n",
       "      <th>3</th>\n",
       "      <td>Southeast</td>\n",
       "      <td>Foot Locker</td>\n",
       "      <td>59669118</td>\n",
       "      <td>Amazon</td>\n",
       "      <td>10826333</td>\n",
       "    </tr>\n",
       "    <tr>\n",
       "      <th>4</th>\n",
       "      <td>West</td>\n",
       "      <td>West Gear</td>\n",
       "      <td>137551280</td>\n",
       "      <td>Walmart</td>\n",
       "      <td>6791008</td>\n",
       "    </tr>\n",
       "  </tbody>\n",
       "</table>\n",
       "</div>"
      ],
      "text/plain": [
       "      Region Best Performing Retailers(BPR)  Sales BPR  \\\n",
       "0    Midwest                    Foot Locker   47987394   \n",
       "1  Northeast                    Foot Locker   65326474   \n",
       "2      South                  Sports Direct   65258121   \n",
       "3  Southeast                    Foot Locker   59669118   \n",
       "4       West                      West Gear  137551280   \n",
       "\n",
       "  Worst Performing Retailers(WPR)  Sales WPR  \n",
       "0                          Amazon   16835873  \n",
       "1                         Walmart   13712005  \n",
       "2                          Amazon     409091  \n",
       "3                          Amazon   10826333  \n",
       "4                         Walmart    6791008  "
      ]
     },
     "execution_count": 55,
     "metadata": {},
     "output_type": "execute_result"
    }
   ],
   "source": [
    "best_ret_reg3 = pd.merge(best_ret_reg1,best_ret_reg2,on = \"Region\")\n",
    "best_ret_reg3 = best_ret_reg3.rename(columns = {'Sales_x':'Sales BPR','Sales_y':'Sales WPR'})\n",
    "best_ret_reg3"
   ]
  },
  {
   "cell_type": "markdown",
   "id": "67c43972",
   "metadata": {},
   "source": [
    "It is interesting to know here that West Gear being the leader in sales as we observed in the earlier bar graph is the best performer in only West region while Foot Locker has been the best performer in 3 regions but is still the second best retailer in overall sales. This shows that despite not being on top in 4 out of 5 regions, West Gear has a consistent performance in all the regions making it the best performing retailer.\n",
    "On the other hand, no change can be seen here from earlier in Amazon and Walmart's condition as they are worst performers in all the regions."
   ]
  },
  {
   "cell_type": "markdown",
   "id": "59fdd227",
   "metadata": {},
   "source": [
    "# Best selling product : - "
   ]
  },
  {
   "cell_type": "code",
   "execution_count": 56,
   "id": "bdf449d0",
   "metadata": {},
   "outputs": [
    {
     "data": {
      "text/plain": [
       "Product\n",
       "Men's Apparel                123728632.0\n",
       "Men's Athletic Footwear      153673680.0\n",
       "Men's Street Footwear        208826244.0\n",
       "Women's Apparel              179038860.0\n",
       "Women's Athletic Footwear    106631896.0\n",
       "Women's Street Footwear      128002813.0\n",
       "Name: Total Sales, dtype: float64"
      ]
     },
     "execution_count": 56,
     "metadata": {},
     "output_type": "execute_result"
    }
   ],
   "source": [
    "Best_sell = df.groupby('Product')['Total Sales'].sum()\n",
    "Best_sell"
   ]
  },
  {
   "cell_type": "code",
   "execution_count": 83,
   "id": "58fc9c57",
   "metadata": {},
   "outputs": [
    {
     "data": {
      "image/png": "[encoded data removed]",
      "text/plain": [
       "<Figure size 640x480 with 1 Axes>"
      ]
     },
     "metadata": {},
     "output_type": "display_data"
    }
   ],
   "source": [
    "d= ['Blue','Green',\"orange\"]\n",
    "plt.bar(Best_sell.index,Best_sell.values,color=d,width = 0.5)\n",
    "plt.xlabel(\"Products\")\n",
    "plt.ylabel(\"Total Sales\")\n",
    "plt.title(\"Overall Best selling Product\")\n",
    "plt.xticks(rotation = 90)\n",
    "plt.show()"
   ]
  },
  {
   "cell_type": "markdown",
   "id": "cf87fd55",
   "metadata": {},
   "source": [
    "It is no surprise that Adidas' Men's Street Footwear is its most sold product due to it being already very popular. Women's Apparels are on 2nd position with Women's Athletic Footwear being the least sold product of Adidas in the market. It can be observed that Men's footwear(both athletic and streetwear) are performing better in the market as comapred to women's footwear. So, Adidas can focus on this issue and come up with a solution to increase their sales in women's footwear category.\n"
   ]
  },
  {
   "cell_type": "markdown",
   "id": "69f618cc",
   "metadata": {},
   "source": [
    "# Best and worst selling product of each region : -"
   ]
  },
  {
   "cell_type": "code",
   "execution_count": 58,
   "id": "564f22a5",
   "metadata": {},
   "outputs": [
    {
     "data": {
      "text/plain": [
       "Region     Product                  \n",
       "Midwest    Men's Apparel                18125661.0\n",
       "           Men's Athletic Footwear      21305539.0\n",
       "           Men's Street Footwear        38322810.0\n",
       "           Women's Apparel              28206383.0\n",
       "           Women's Athletic Footwear    13595168.0\n",
       "           Women's Street Footwear      16244898.0\n",
       "Northeast  Men's Apparel                25744412.0\n",
       "           Men's Athletic Footwear      28874237.0\n",
       "           Men's Street Footwear        51025024.0\n",
       "           Women's Apparel              37543083.0\n",
       "           Women's Athletic Footwear    19796138.0\n",
       "           Women's Street Footwear      23341173.0\n",
       "South      Men's Apparel                19703069.0\n",
       "           Men's Athletic Footwear      25710545.0\n",
       "           Men's Street Footwear        28444561.0\n",
       "           Women's Apparel              29607187.0\n",
       "           Women's Athletic Footwear    18420722.0\n",
       "           Women's Street Footwear      22777097.0\n",
       "Southeast  Men's Apparel                24461487.0\n",
       "           Men's Athletic Footwear      27777020.0\n",
       "           Men's Street Footwear        36019236.0\n",
       "           Women's Apparel              31491161.0\n",
       "           Women's Athletic Footwear    20302798.0\n",
       "           Women's Street Footwear      23119534.0\n",
       "West       Men's Apparel                35694003.0\n",
       "           Men's Athletic Footwear      50006339.0\n",
       "           Men's Street Footwear        55014613.0\n",
       "           Women's Apparel              52191046.0\n",
       "           Women's Athletic Footwear    34517070.0\n",
       "           Women's Street Footwear      42520111.0\n",
       "Name: Total Sales, dtype: float64"
      ]
     },
     "execution_count": 58,
     "metadata": {},
     "output_type": "execute_result"
    }
   ],
   "source": [
    "BW_product = df.groupby(['Region','Product'])['Total Sales'].sum()\n",
    "BW_product "
   ]
  },
  {
   "cell_type": "code",
   "execution_count": 59,
   "id": "890927cf",
   "metadata": {},
   "outputs": [
    {
     "data": {
      "text/plain": [
       "Product\n",
       "Men's Street Footwear    38322810.0\n",
       "Name: Total Sales, dtype: float64"
      ]
     },
     "execution_count": 59,
     "metadata": {},
     "output_type": "execute_result"
    }
   ],
   "source": [
    "BW_product ['Midwest'].nlargest(1)"
   ]
  },
  {
   "cell_type": "code",
   "execution_count": 60,
   "id": "2210c7c7",
   "metadata": {},
   "outputs": [
    {
     "data": {
      "text/plain": [
       "Product\n",
       "Men's Street Footwear    51025024.0\n",
       "Name: Total Sales, dtype: float64"
      ]
     },
     "execution_count": 60,
     "metadata": {},
     "output_type": "execute_result"
    }
   ],
   "source": [
    "BW_product ['Northeast'].nlargest(1)"
   ]
  },
  {
   "cell_type": "code",
   "execution_count": 61,
   "id": "0a1836ac",
   "metadata": {},
   "outputs": [
    {
     "data": {
      "text/plain": [
       "Product\n",
       "Women's Apparel    29607187.0\n",
       "Name: Total Sales, dtype: float64"
      ]
     },
     "execution_count": 61,
     "metadata": {},
     "output_type": "execute_result"
    }
   ],
   "source": [
    "BW_product ['South'].nlargest(1)"
   ]
  },
  {
   "cell_type": "code",
   "execution_count": 62,
   "id": "dc3d77c8",
   "metadata": {},
   "outputs": [
    {
     "data": {
      "text/plain": [
       "Product\n",
       "Men's Street Footwear    36019236.0\n",
       "Name: Total Sales, dtype: float64"
      ]
     },
     "execution_count": 62,
     "metadata": {},
     "output_type": "execute_result"
    }
   ],
   "source": [
    "BW_product ['Southeast'].nlargest(1)"
   ]
  },
  {
   "cell_type": "code",
   "execution_count": 63,
   "id": "f6119cbc",
   "metadata": {},
   "outputs": [
    {
     "data": {
      "text/plain": [
       "Product\n",
       "Men's Street Footwear    55014613.0\n",
       "Name: Total Sales, dtype: float64"
      ]
     },
     "execution_count": 63,
     "metadata": {},
     "output_type": "execute_result"
    }
   ],
   "source": [
    "BW_product ['West'].nlargest(1)"
   ]
  },
  {
   "cell_type": "code",
   "execution_count": 64,
   "id": "d42b2fd6",
   "metadata": {},
   "outputs": [
    {
     "data": {
      "text/plain": [
       "Product\n",
       "Women's Athletic Footwear    13595168.0\n",
       "Name: Total Sales, dtype: float64"
      ]
     },
     "execution_count": 64,
     "metadata": {},
     "output_type": "execute_result"
    }
   ],
   "source": [
    "BW_product ['Midwest'].nsmallest(1)"
   ]
  },
  {
   "cell_type": "code",
   "execution_count": 65,
   "id": "a2cc14d4",
   "metadata": {},
   "outputs": [
    {
     "data": {
      "text/plain": [
       "Product\n",
       "Women's Athletic Footwear    19796138.0\n",
       "Name: Total Sales, dtype: float64"
      ]
     },
     "execution_count": 65,
     "metadata": {},
     "output_type": "execute_result"
    }
   ],
   "source": [
    "BW_product ['Northeast'].nsmallest(1)"
   ]
  },
  {
   "cell_type": "code",
   "execution_count": 66,
   "id": "0bcaa248",
   "metadata": {},
   "outputs": [
    {
     "data": {
      "text/plain": [
       "Product\n",
       "Women's Athletic Footwear    18420722.0\n",
       "Name: Total Sales, dtype: float64"
      ]
     },
     "execution_count": 66,
     "metadata": {},
     "output_type": "execute_result"
    }
   ],
   "source": [
    "BW_product ['South'].nsmallest(1)"
   ]
  },
  {
   "cell_type": "code",
   "execution_count": 67,
   "id": "c00b914e",
   "metadata": {},
   "outputs": [
    {
     "data": {
      "text/plain": [
       "Product\n",
       "Women's Athletic Footwear    20302798.0\n",
       "Name: Total Sales, dtype: float64"
      ]
     },
     "execution_count": 67,
     "metadata": {},
     "output_type": "execute_result"
    }
   ],
   "source": [
    "BW_product ['Southeast'].nsmallest(1)"
   ]
  },
  {
   "cell_type": "code",
   "execution_count": 68,
   "id": "d4543244",
   "metadata": {},
   "outputs": [
    {
     "data": {
      "text/plain": [
       "Product\n",
       "Women's Athletic Footwear    34517070.0\n",
       "Name: Total Sales, dtype: float64"
      ]
     },
     "execution_count": 68,
     "metadata": {},
     "output_type": "execute_result"
    }
   ],
   "source": [
    "BW_product ['West'].nsmallest(1)"
   ]
  },
  {
   "cell_type": "code",
   "execution_count": 69,
   "id": "a9298114",
   "metadata": {},
   "outputs": [],
   "source": [
    "BW_product1 = pd.DataFrame({'Region':['Midwest','Northeast','South','Southeast','West'],\n",
    "                     'Product':[\"Men's Street Footwear\",\"Men's Street Footwear\",\"Women's Apparel\",\"Men's Street Footwear\",\"Men's Street Footwear\"],\n",
    "                    'Sales':[38322810,51025024,29607187,36019236,55014613]})\n",
    "BW_product2 = pd.DataFrame({'Region'  : ['Midwest','Northeast','South','Southeast','West'],\n",
    "                     'Product' : [\"Women's Athletic Footwear\",\"Women's Athletic Footwear\",\"Women's Athletic Footwear\",\"Women's Athletic Footwear\",\"Women's Athletic Footwear\"],\n",
    "                    'Sales' : [13595168,19796138,18420722,20302798,34517070]})"
   ]
  },
  {
   "cell_type": "code",
   "execution_count": 70,
   "id": "03d4b81d",
   "metadata": {},
   "outputs": [
    {
     "data": {
      "text/html": [
       "<div>\n",
       "<style scoped>\n",
       "    .dataframe tbody tr th:only-of-type {\n",
       "        vertical-align: middle;\n",
       "    }\n",
       "\n",
       "    .dataframe tbody tr th {\n",
       "        vertical-align: top;\n",
       "    }\n",
       "\n",
       "    .dataframe thead th {\n",
       "        text-align: right;\n",
       "    }\n",
       "</style>\n",
       "<table border=\"1\" class=\"dataframe\">\n",
       "  <thead>\n",
       "    <tr style=\"text-align: right;\">\n",
       "      <th></th>\n",
       "      <th>Region</th>\n",
       "      <th>Best Selling Product(BSP)</th>\n",
       "      <th>BSP Sales</th>\n",
       "      <th>Worst Selling Product(WSP)</th>\n",
       "      <th>WSP Sales</th>\n",
       "    </tr>\n",
       "  </thead>\n",
       "  <tbody>\n",
       "    <tr>\n",
       "      <th>0</th>\n",
       "      <td>Midwest</td>\n",
       "      <td>Men's Street Footwear</td>\n",
       "      <td>38322810</td>\n",
       "      <td>Women's Athletic Footwear</td>\n",
       "      <td>13595168</td>\n",
       "    </tr>\n",
       "    <tr>\n",
       "      <th>1</th>\n",
       "      <td>Northeast</td>\n",
       "      <td>Men's Street Footwear</td>\n",
       "      <td>51025024</td>\n",
       "      <td>Women's Athletic Footwear</td>\n",
       "      <td>19796138</td>\n",
       "    </tr>\n",
       "    <tr>\n",
       "      <th>2</th>\n",
       "      <td>South</td>\n",
       "      <td>Women's Apparel</td>\n",
       "      <td>29607187</td>\n",
       "      <td>Women's Athletic Footwear</td>\n",
       "      <td>18420722</td>\n",
       "    </tr>\n",
       "    <tr>\n",
       "      <th>3</th>\n",
       "      <td>Southeast</td>\n",
       "      <td>Men's Street Footwear</td>\n",
       "      <td>36019236</td>\n",
       "      <td>Women's Athletic Footwear</td>\n",
       "      <td>20302798</td>\n",
       "    </tr>\n",
       "    <tr>\n",
       "      <th>4</th>\n",
       "      <td>West</td>\n",
       "      <td>Men's Street Footwear</td>\n",
       "      <td>55014613</td>\n",
       "      <td>Women's Athletic Footwear</td>\n",
       "      <td>34517070</td>\n",
       "    </tr>\n",
       "  </tbody>\n",
       "</table>\n",
       "</div>"
      ],
      "text/plain": [
       "      Region Best Selling Product(BSP)  BSP Sales Worst Selling Product(WSP)  \\\n",
       "0    Midwest     Men's Street Footwear   38322810  Women's Athletic Footwear   \n",
       "1  Northeast     Men's Street Footwear   51025024  Women's Athletic Footwear   \n",
       "2      South           Women's Apparel   29607187  Women's Athletic Footwear   \n",
       "3  Southeast     Men's Street Footwear   36019236  Women's Athletic Footwear   \n",
       "4       West     Men's Street Footwear   55014613  Women's Athletic Footwear   \n",
       "\n",
       "   WSP Sales  \n",
       "0   13595168  \n",
       "1   19796138  \n",
       "2   18420722  \n",
       "3   20302798  \n",
       "4   34517070  "
      ]
     },
     "execution_count": 70,
     "metadata": {},
     "output_type": "execute_result"
    }
   ],
   "source": [
    "BW_product3 = pd.merge(BW_product1,BW_product2, on = \"Region\" )\n",
    "BW_product3 = BW_product3.rename(columns = {'Sales_x':'BSP Sales','Sales_y':'WSP Sales','Product_x':'Best Selling Product(BSP)','Product_y':'Worst Selling Product(WSP)'})\n",
    "BW_product3"
   ]
  },
  {
   "cell_type": "markdown",
   "id": "0f8f2c2c",
   "metadata": {},
   "source": [
    "From data above, we can observe that Men's Street Footwear is adidas' best selling peoduct in 4 out of 5 regions and thus Adidas can continue on its development without many changes in the already existing process. \n",
    "On the other hand, we can conclude from data that Adidas' Women's Athletic Fotwear is its worst performing product in all regions. Adidas need to find out the cause of the matter and then should start working in this direction so that their product can sell better."
   ]
  },
  {
   "cell_type": "markdown",
   "id": "c4c2f14d",
   "metadata": {},
   "source": [
    "# Product vs Operating profits : - "
   ]
  },
  {
   "cell_type": "code",
   "execution_count": 71,
   "id": "740c2b27",
   "metadata": {},
   "outputs": [],
   "source": [
    "Prod_oper = df.groupby('Product')['Operating Profit'].sum()\n",
    "Prod_oper1 = pd.DataFrame(Prod_oper)"
   ]
  },
  {
   "cell_type": "code",
   "execution_count": 91,
   "id": "505e2642",
   "metadata": {},
   "outputs": [
    {
     "data": {
      "image/png": "[encoded data removed]",
      "text/plain": [
       "<Figure size 640x480 with 1 Axes>"
      ]
     },
     "metadata": {},
     "output_type": "display_data"
    }
   ],
   "source": [
    "plt.pie(Prod_oper1['Operating Profit'],labels = Prod_oper1.index,explode = (0,0,0.2,0,0,0),autopct=('%1.1f%%'),shadow = True,startangle = 0)\n",
    "plt.title('Product vs Operating Profits')\n",
    "plt.axis('Equal')\n",
    "plt.show()"
   ]
  },
  {
   "cell_type": "markdown",
   "id": "ac205478",
   "metadata": {},
   "source": []
  }
 ],
 "metadata": {
  "kernelspec": {
   "display_name": "Python 3 (ipykernel)",
   "language": "python",
   "name": "python3"
  },
  "language_info": {
   "codemirror_mode": {
    "name": "ipython",
    "version": 3
   },
   "file_extension": ".py",
   "mimetype": "text/x-python",
   "name": "python",
   "nbconvert_exporter": "python",
   "pygments_lexer": "ipython3",
   "version": "3.10.4"
  }
 },
 "nbformat": 4,
 "nbformat_minor": 5
}
